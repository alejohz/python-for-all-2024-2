{
  "nbformat": 4,
  "nbformat_minor": 0,
  "metadata": {
    "colab": {
      "provenance": []
    },
    "kernelspec": {
      "name": "python3",
      "display_name": "Python 3"
    },
    "language_info": {
      "name": "python"
    }
  },
  "cells": [
    {
      "cell_type": "markdown",
      "source": [
        "**Clase 1**\n",
        "\n",
        "En esta *primera* clase, la idea es cubrir temas como variables, operaciones y expresiones.\n",
        "\n",
        "> Este sera nuestro primer notebook\n",
        "\n"
      ],
      "metadata": {
        "id": "NcWvEwKunI35"
      }
    },
    {
      "cell_type": "markdown",
      "source": [
        "**To Do list for 17-09**\n",
        "- Review the course docs (both books)\n",
        "- Brief intro of myself and experience with Python\n",
        "- Intro to Google Colab our star tool\n",
        "- What is a Notebook?\n",
        "- What is programming?"
      ],
      "metadata": {
        "id": "jGnDnE08c9yk"
      }
    },
    {
      "cell_type": "markdown",
      "source": [
        "Lo primero que vamos a ver son variables.\n",
        "\n",
        "Una variable es una caja. Dentro de esa caja, yo puedo almacenar lo que yo quiera. Lo que me permite esa caja, es guardar algo que puedo necesitar más adelante."
      ],
      "metadata": {
        "id": "b3Isyk5bnk-8"
      }
    },
    {
      "cell_type": "markdown",
      "source": [
        "Buenas practicas de programación\n",
        "- Documentación\n",
        "- Buen nombrado de las variables\n",
        "- Buena legibilidad"
      ],
      "metadata": {
        "id": "e5KKCicjoNt3"
      }
    },
    {
      "cell_type": "markdown",
      "source": [
        "Variables.  \n",
        "Operaciones (Asignación).  \n",
        "Tipo de dato.  \n",
        "- integer\n",
        "- float\n",
        "- strings\n",
        "- booleano (bool)"
      ],
      "metadata": {
        "id": "kTUCOz-3roRu"
      }
    },
    {
      "cell_type": "code",
      "source": [
        "a = 5\n",
        "b = 6\n",
        "x = \"Libro\"\n",
        "y = \"Cuaderno\"\n",
        "\n",
        "primer_numero = 5\n",
        "segundo_numero = 6\n",
        "primerNumero= 5\n",
        "\n",
        "estas_sentado = True\n",
        "tienes_calor = False\n",
        "x = True\n",
        "\n",
        "print(x)"
      ],
      "metadata": {
        "colab": {
          "base_uri": "https://localhost:8080/"
        },
        "id": "kETFu13YmmtS",
        "outputId": "f58ea39f-ae6b-4f50-c437-ca90210ea79e"
      },
      "execution_count": null,
      "outputs": [
        {
          "output_type": "stream",
          "name": "stdout",
          "text": [
            "True\n"
          ]
        }
      ]
    },
    {
      "cell_type": "code",
      "source": [
        "primer_numero\n",
        "primer_numero"
      ],
      "metadata": {
        "id": "cGIB3cy7qm3i"
      },
      "execution_count": null,
      "outputs": []
    },
    {
      "cell_type": "code",
      "source": [
        "print(w)"
      ],
      "metadata": {
        "colab": {
          "base_uri": "https://localhost:8080/",
          "height": 144
        },
        "id": "86f8ylp6qLRL",
        "outputId": "d2e6ec9b-2acc-4986-c0f5-2a0c477d3682"
      },
      "execution_count": null,
      "outputs": [
        {
          "output_type": "error",
          "ename": "NameError",
          "evalue": "name 'w' is not defined",
          "traceback": [
            "\u001b[0;31m---------------------------------------------------------------------------\u001b[0m",
            "\u001b[0;31mNameError\u001b[0m                                 Traceback (most recent call last)",
            "\u001b[0;32m<ipython-input-4-bcfe7ead5c3f>\u001b[0m in \u001b[0;36m<cell line: 1>\u001b[0;34m()\u001b[0m\n\u001b[0;32m----> 1\u001b[0;31m \u001b[0mprint\u001b[0m\u001b[0;34m(\u001b[0m\u001b[0mw\u001b[0m\u001b[0;34m)\u001b[0m\u001b[0;34m\u001b[0m\u001b[0;34m\u001b[0m\u001b[0m\n\u001b[0m",
            "\u001b[0;31mNameError\u001b[0m: name 'w' is not defined"
          ]
        }
      ]
    },
    {
      "cell_type": "code",
      "source": [
        "print(\"Libro\")"
      ],
      "metadata": {
        "colab": {
          "base_uri": "https://localhost:8080/"
        },
        "id": "tWyvnfncrhH0",
        "outputId": "2b3cf774-a3d7-4d7b-84eb-ad01f16393f8"
      },
      "execution_count": null,
      "outputs": [
        {
          "output_type": "stream",
          "name": "stdout",
          "text": [
            "Libro\n"
          ]
        }
      ]
    },
    {
      "cell_type": "code",
      "source": [
        "a = 5.5"
      ],
      "metadata": {
        "id": "bYwgA3utr4gp"
      },
      "execution_count": null,
      "outputs": []
    },
    {
      "cell_type": "code",
      "source": [
        "print(x)"
      ],
      "metadata": {
        "colab": {
          "base_uri": "https://localhost:8080/"
        },
        "id": "G_OXcA2btSt_",
        "outputId": "cf5b3560-b94f-4a7d-f3b0-c0e0f9a1dbbc"
      },
      "execution_count": null,
      "outputs": [
        {
          "output_type": "stream",
          "name": "stdout",
          "text": [
            "True\n"
          ]
        }
      ]
    },
    {
      "cell_type": "code",
      "source": [
        "u = \"Sueño\""
      ],
      "metadata": {
        "id": "GD95-HzwtonL"
      },
      "execution_count": null,
      "outputs": []
    },
    {
      "cell_type": "code",
      "source": [
        "print(u)"
      ],
      "metadata": {
        "colab": {
          "base_uri": "https://localhost:8080/"
        },
        "id": "bAo9uwX9t_d3",
        "outputId": "565a5c82-8fb3-4825-943d-26d43aaadc57"
      },
      "execution_count": null,
      "outputs": [
        {
          "output_type": "stream",
          "name": "stdout",
          "text": [
            "Sueño\n"
          ]
        }
      ]
    },
    {
      "cell_type": "markdown",
      "source": [
        "Tipos de datos con type"
      ],
      "metadata": {
        "id": "5plIeUIju-eO"
      }
    },
    {
      "cell_type": "code",
      "source": [
        "tipo_de_u = type(u)\n",
        "print(tipo_de_u)"
      ],
      "metadata": {
        "colab": {
          "base_uri": "https://localhost:8080/"
        },
        "id": "9xPTzTvhu-OO",
        "outputId": "8cd6946c-4b19-474a-e9a6-fc07e095abce"
      },
      "execution_count": null,
      "outputs": [
        {
          "output_type": "stream",
          "name": "stdout",
          "text": [
            "<class 'str'>\n"
          ]
        }
      ]
    },
    {
      "cell_type": "code",
      "source": [
        "print(type(u))"
      ],
      "metadata": {
        "colab": {
          "base_uri": "https://localhost:8080/"
        },
        "id": "WDzoWc_PvS0S",
        "outputId": "1eb1e5cc-0d10-441b-c829-0ff1bd59b415"
      },
      "execution_count": null,
      "outputs": [
        {
          "output_type": "stream",
          "name": "stdout",
          "text": [
            "<class 'str'>\n"
          ]
        }
      ]
    },
    {
      "cell_type": "code",
      "source": [
        "print(\"True\")\n",
        "print(True)"
      ],
      "metadata": {
        "colab": {
          "base_uri": "https://localhost:8080/"
        },
        "id": "wHP0N9uwv_xf",
        "outputId": "6232a864-dbfb-4e13-c32a-b23994cdc089"
      },
      "execution_count": null,
      "outputs": [
        {
          "output_type": "stream",
          "name": "stdout",
          "text": [
            "True\n",
            "True\n"
          ]
        }
      ]
    },
    {
      "cell_type": "code",
      "source": [
        "print(type(\"True\"))\n",
        "print(type(True))"
      ],
      "metadata": {
        "colab": {
          "base_uri": "https://localhost:8080/"
        },
        "id": "GICSyiDpwIjl",
        "outputId": "193651a6-d4db-45cd-a9a0-026f814c4f38"
      },
      "execution_count": null,
      "outputs": [
        {
          "output_type": "stream",
          "name": "stdout",
          "text": [
            "<class 'str'>\n",
            "<class 'bool'>\n"
          ]
        }
      ]
    },
    {
      "cell_type": "code",
      "source": [
        "suma = 10 + 12\n",
        "resta = 10 - 12\n",
        "multiplicacion = 6 * 6"
      ],
      "metadata": {
        "id": "uyClyPUZvgDT"
      },
      "execution_count": null,
      "outputs": []
    },
    {
      "cell_type": "code",
      "source": [
        "numero = 7\n",
        "numero_2 = 12\n",
        "suma = numero + numero_2\n",
        "resta = numero - numero_2\n",
        "multiplicacion = numero * numero_2"
      ],
      "metadata": {
        "id": "GpgcibEvvn9E"
      },
      "execution_count": null,
      "outputs": []
    },
    {
      "cell_type": "code",
      "source": [
        "suma_2 = 5 + 3.0\n",
        "print(suma_2)\n",
        "print(type(suma_2))"
      ],
      "metadata": {
        "colab": {
          "base_uri": "https://localhost:8080/"
        },
        "id": "7mRbouZ0wPjh",
        "outputId": "e11270ea-7d3e-40b0-8140-2c804938b9de"
      },
      "execution_count": null,
      "outputs": [
        {
          "output_type": "stream",
          "name": "stdout",
          "text": [
            "8.0\n",
            "<class 'float'>\n"
          ]
        }
      ]
    },
    {
      "cell_type": "code",
      "source": [
        "suma_3 = 5 + \"Libro\"\n",
        "print(suma_3)"
      ],
      "metadata": {
        "colab": {
          "base_uri": "https://localhost:8080/",
          "height": 162
        },
        "id": "CnLBtZjkxf1O",
        "outputId": "caa3a7bd-b164-4811-d653-878f723f5d7c"
      },
      "execution_count": null,
      "outputs": [
        {
          "output_type": "error",
          "ename": "TypeError",
          "evalue": "unsupported operand type(s) for +: 'int' and 'str'",
          "traceback": [
            "\u001b[0;31m---------------------------------------------------------------------------\u001b[0m",
            "\u001b[0;31mTypeError\u001b[0m                                 Traceback (most recent call last)",
            "\u001b[0;32m<ipython-input-20-2d375adebe6a>\u001b[0m in \u001b[0;36m<cell line: 1>\u001b[0;34m()\u001b[0m\n\u001b[0;32m----> 1\u001b[0;31m \u001b[0msuma_3\u001b[0m \u001b[0;34m=\u001b[0m \u001b[0;36m5\u001b[0m \u001b[0;34m+\u001b[0m \u001b[0;34m\"Libro\"\u001b[0m\u001b[0;34m\u001b[0m\u001b[0;34m\u001b[0m\u001b[0m\n\u001b[0m\u001b[1;32m      2\u001b[0m \u001b[0mprint\u001b[0m\u001b[0;34m(\u001b[0m\u001b[0msuma_3\u001b[0m\u001b[0;34m)\u001b[0m\u001b[0;34m\u001b[0m\u001b[0;34m\u001b[0m\u001b[0m\n",
            "\u001b[0;31mTypeError\u001b[0m: unsupported operand type(s) for +: 'int' and 'str'"
          ]
        }
      ]
    },
    {
      "cell_type": "code",
      "source": [
        "print(6,\"libro\",True,5,65,\"Alejandro\")"
      ],
      "metadata": {
        "colab": {
          "base_uri": "https://localhost:8080/"
        },
        "id": "WI_KHZN6xtsL",
        "outputId": "4afec5c7-6512-48c2-efb3-09c1c935182c"
      },
      "execution_count": null,
      "outputs": [
        {
          "output_type": "stream",
          "name": "stdout",
          "text": [
            "6 libro True 5 65 Alejandro\n"
          ]
        }
      ]
    },
    {
      "cell_type": "markdown",
      "source": [
        "Vamos a ver los comentarios, los comentarios me permiten saber más a detalle que está pasando en el codigo."
      ],
      "metadata": {
        "id": "Bn3X-mQPzxc7"
      }
    },
    {
      "cell_type": "code",
      "source": [
        "# Acá esta definido el documento\n",
        "documento_1 = \"Carta de notificación de arriendo\" # comentario inline, en la misma linea\n",
        "\n",
        "# Yo quiero añadir un comentario multilinea\n",
        "# Sin tener que poner un hashtag\n",
        "# en cada linea\n",
        "\n",
        "# Para los comentarios multilinea uso triple comillas\n",
        "\n",
        "\"\"\"\n",
        "Acá adentro está el comentario multilinea,\n",
        "se ve rojo, porque entre comillas va texto,\n",
        "Pero si no se lo asigno a nada, sirve como comentario.\n",
        "\"\"\"\n",
        "print(documento_1)"
      ],
      "metadata": {
        "colab": {
          "base_uri": "https://localhost:8080/"
        },
        "id": "I1GyY56Xz-Li",
        "outputId": "69ace478-5a7e-43ad-f45c-9bd9d021d198"
      },
      "execution_count": null,
      "outputs": [
        {
          "output_type": "stream",
          "name": "stdout",
          "text": [
            "Carta de notificación de arriendo\n"
          ]
        }
      ]
    },
    {
      "cell_type": "code",
      "source": [
        "tercer_numero = 10 # Se llama tercer numero, porque ya hay dos numeros definidos mas arriba\n",
        "cuarto_numero = 17 # cuarto numero solo deberia ser entero\n",
        "# TODO: Acá deberia seguir una suma entre estos dos numeros\n",
        "# FIXME: acá hay un error, deberiamos corregirlo\n",
        "# REVIEW: Ojo revisar esto"
      ],
      "metadata": {
        "id": "6Z_HSRRw04rK"
      },
      "execution_count": null,
      "outputs": []
    },
    {
      "cell_type": "code",
      "source": [],
      "metadata": {
        "id": "iLAxNbAV1hvP"
      },
      "execution_count": null,
      "outputs": []
    }
  ]
}