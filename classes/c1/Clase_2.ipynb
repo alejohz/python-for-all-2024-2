{
  "nbformat": 4,
  "nbformat_minor": 0,
  "metadata": {
    "colab": {
      "provenance": []
    },
    "kernelspec": {
      "name": "python3",
      "display_name": "Python 3"
    },
    "language_info": {
      "name": "python"
    }
  },
  "cells": [
    {
      "cell_type": "markdown",
      "source": [
        "# Clase 2\n",
        "# Python for all\n",
        "Vamos a ver un repaso de la clase anterior y a grabarnos bien esos conceptos iniciales de Python.\n",
        "Con las bases listas, podemos seguir avanzando en el curso.\n",
        "\n",
        "Nuevas Metodologías:\n",
        "- Temas de Estudio\n",
        "- Ejercicios de Repaso (2, 3, 6, 10)\n",
        "\n",
        "La idea es que hoy veamos los siguientes temas:\n",
        "- Introducción a la programación. (Repaso)\n",
        "- Variables, expresiones, operadores. (Repaso)\n",
        "  - Añadir modulo, exponente, divison entera\n",
        "  - Añadir operadores logicos\n",
        "- Tipos de datos y conversiones. (Repaso)\n",
        "- Ejercicios (21, 32)\n",
        "- Condicionales\n",
        "- Ejercicios (32, 34, 35, 36)\n",
        "- Contenedores\n",
        "- Ejercicios (45, 60, 104)\n",
        "- Ciclos\n",
        "\n",
        "Temas de estudio:\n",
        "- [Conversión de tipos](https://www.w3schools.com/python/python_casting.asp)\n",
        "- [Strings](https://www.w3schools.com/python/python_strings.asp)\n",
        "- Qué es Git?"
      ],
      "metadata": {
        "id": "PiMCYT4T9o2o"
      }
    },
    {
      "cell_type": "code",
      "execution_count": 1,
      "metadata": {
        "id": "7kT9NTEM9nac",
        "colab": {
          "base_uri": "https://localhost:8080/"
        },
        "outputId": "3a8f7576-2225-485b-ea5c-b25bb5289fce"
      },
      "outputs": [
        {
          "output_type": "stream",
          "name": "stdout",
          "text": [
            "5\n"
          ]
        }
      ],
      "source": [
        "# Vamos a hacer un repaso\n",
        "a = 5 # Aquí estoy creando una variable - operación de asignación\n",
        "b = a # Aquí estamos creando la variable b - Asignadole el valor de a\n",
        "print(b)"
      ]
    },
    {
      "cell_type": "code",
      "source": [
        "x = \"Libro\"\n",
        "y = 5.5\n",
        "w = True\n",
        "# Porque se ven verdes?\n",
        "\"\"\"\n",
        "Comentario multilinea\n",
        "\"\"\"\n",
        "\n",
        "print(type(x))\n",
        "print(type(y))\n",
        "print(type(w))"
      ],
      "metadata": {
        "colab": {
          "base_uri": "https://localhost:8080/"
        },
        "id": "Sr-_qSFnkoAP",
        "outputId": "ab1a02c2-05ed-4b79-f235-aeb1a9f839f4"
      },
      "execution_count": 2,
      "outputs": [
        {
          "output_type": "stream",
          "name": "stdout",
          "text": [
            "<class 'str'>\n",
            "<class 'float'>\n",
            "<class 'bool'>\n"
          ]
        }
      ]
    },
    {
      "cell_type": "code",
      "source": [
        "Estatura = \"178\"\n",
        "Peso = 70\n",
        "\n",
        "print(Estatura + Peso)"
      ],
      "metadata": {
        "colab": {
          "base_uri": "https://localhost:8080/",
          "height": 176
        },
        "id": "EfyUgJCelw-3",
        "outputId": "3e84762d-8ce0-4c21-8874-79771e0f1455"
      },
      "execution_count": 3,
      "outputs": [
        {
          "output_type": "error",
          "ename": "TypeError",
          "evalue": "can only concatenate str (not \"int\") to str",
          "traceback": [
            "\u001b[0;31m---------------------------------------------------------------------------\u001b[0m",
            "\u001b[0;31mTypeError\u001b[0m                                 Traceback (most recent call last)",
            "\u001b[0;32m<ipython-input-3-64f884400f8a>\u001b[0m in \u001b[0;36m<cell line: 4>\u001b[0;34m()\u001b[0m\n\u001b[1;32m      2\u001b[0m \u001b[0mPeso\u001b[0m \u001b[0;34m=\u001b[0m \u001b[0;36m70\u001b[0m\u001b[0;34m\u001b[0m\u001b[0;34m\u001b[0m\u001b[0m\n\u001b[1;32m      3\u001b[0m \u001b[0;34m\u001b[0m\u001b[0m\n\u001b[0;32m----> 4\u001b[0;31m \u001b[0mprint\u001b[0m\u001b[0;34m(\u001b[0m\u001b[0mEstatura\u001b[0m \u001b[0;34m+\u001b[0m \u001b[0mPeso\u001b[0m\u001b[0;34m)\u001b[0m\u001b[0;34m\u001b[0m\u001b[0;34m\u001b[0m\u001b[0m\n\u001b[0m",
            "\u001b[0;31mTypeError\u001b[0m: can only concatenate str (not \"int\") to str"
          ]
        }
      ]
    },
    {
      "cell_type": "code",
      "source": [
        "print(Estatura)\n",
        "print(Peso)\n",
        "print(Estatura + Peso)"
      ],
      "metadata": {
        "colab": {
          "base_uri": "https://localhost:8080/",
          "height": 211
        },
        "id": "D2psKbQnmAc8",
        "outputId": "2b104c18-d9cc-4cef-903a-7156f9ed54ec"
      },
      "execution_count": 4,
      "outputs": [
        {
          "output_type": "stream",
          "name": "stdout",
          "text": [
            "178\n",
            "70\n"
          ]
        },
        {
          "output_type": "error",
          "ename": "TypeError",
          "evalue": "can only concatenate str (not \"int\") to str",
          "traceback": [
            "\u001b[0;31m---------------------------------------------------------------------------\u001b[0m",
            "\u001b[0;31mTypeError\u001b[0m                                 Traceback (most recent call last)",
            "\u001b[0;32m<ipython-input-4-2168705e35f2>\u001b[0m in \u001b[0;36m<cell line: 3>\u001b[0;34m()\u001b[0m\n\u001b[1;32m      1\u001b[0m \u001b[0mprint\u001b[0m\u001b[0;34m(\u001b[0m\u001b[0mEstatura\u001b[0m\u001b[0;34m)\u001b[0m\u001b[0;34m\u001b[0m\u001b[0;34m\u001b[0m\u001b[0m\n\u001b[1;32m      2\u001b[0m \u001b[0mprint\u001b[0m\u001b[0;34m(\u001b[0m\u001b[0mPeso\u001b[0m\u001b[0;34m)\u001b[0m\u001b[0;34m\u001b[0m\u001b[0;34m\u001b[0m\u001b[0m\n\u001b[0;32m----> 3\u001b[0;31m \u001b[0mprint\u001b[0m\u001b[0;34m(\u001b[0m\u001b[0mEstatura\u001b[0m \u001b[0;34m+\u001b[0m \u001b[0mPeso\u001b[0m\u001b[0;34m)\u001b[0m\u001b[0;34m\u001b[0m\u001b[0;34m\u001b[0m\u001b[0m\n\u001b[0m",
            "\u001b[0;31mTypeError\u001b[0m: can only concatenate str (not \"int\") to str"
          ]
        }
      ]
    },
    {
      "cell_type": "code",
      "source": [
        "# int es la forma en la que convierto una variable a ENTERO\n",
        "# Esto en ingles le dicen CASTING\n",
        "# int\n",
        "# str\n",
        "# bool\n",
        "# float\n",
        "print(int(Estatura) + int(Peso))"
      ],
      "metadata": {
        "colab": {
          "base_uri": "https://localhost:8080/"
        },
        "id": "ahIK9Tx4mTYm",
        "outputId": "99393c4d-6db4-462a-9ec1-9a12caa65b71"
      },
      "execution_count": 5,
      "outputs": [
        {
          "output_type": "stream",
          "name": "stdout",
          "text": [
            "248\n"
          ]
        }
      ]
    },
    {
      "cell_type": "code",
      "source": [
        "print(int(\"178\"))"
      ],
      "metadata": {
        "colab": {
          "base_uri": "https://localhost:8080/"
        },
        "id": "PHS-jHG-mtJ-",
        "outputId": "6bd572ae-b0a9-45e6-c430-5d4fea951e5a"
      },
      "execution_count": 6,
      "outputs": [
        {
          "output_type": "stream",
          "name": "stdout",
          "text": [
            "178\n"
          ]
        }
      ]
    },
    {
      "cell_type": "code",
      "source": [
        "print(float(5))"
      ],
      "metadata": {
        "colab": {
          "base_uri": "https://localhost:8080/"
        },
        "id": "0IakJ9Dnm6r4",
        "outputId": "752f7105-ec6c-4547-f581-c15e38f80ff4"
      },
      "execution_count": 7,
      "outputs": [
        {
          "output_type": "stream",
          "name": "stdout",
          "text": [
            "5.0\n"
          ]
        }
      ]
    },
    {
      "cell_type": "code",
      "source": [
        "print(int(5.1))\n",
        "print(int(5.9))"
      ],
      "metadata": {
        "colab": {
          "base_uri": "https://localhost:8080/"
        },
        "id": "QKmQ-WPynMAJ",
        "outputId": "aa564fb5-9745-4d2f-cadc-fa70a4708637"
      },
      "execution_count": 8,
      "outputs": [
        {
          "output_type": "stream",
          "name": "stdout",
          "text": [
            "5\n",
            "5\n"
          ]
        }
      ]
    },
    {
      "cell_type": "code",
      "source": [
        "print(1000000000)"
      ],
      "metadata": {
        "colab": {
          "base_uri": "https://localhost:8080/"
        },
        "id": "t1e943Ignkwy",
        "outputId": "d9975a07-f583-4850-e27e-4aa3704a410e"
      },
      "execution_count": 9,
      "outputs": [
        {
          "output_type": "stream",
          "name": "stdout",
          "text": [
            "1000000000\n"
          ]
        }
      ]
    },
    {
      "cell_type": "code",
      "source": [
        "print(bool(1)) # Este es verdadero\n",
        "print(bool(0)) # Esto es falso"
      ],
      "metadata": {
        "colab": {
          "base_uri": "https://localhost:8080/"
        },
        "id": "UlzNwbPHno0D",
        "outputId": "a7c7410e-e410-455e-8b7e-9a9809308583"
      },
      "execution_count": 10,
      "outputs": [
        {
          "output_type": "stream",
          "name": "stdout",
          "text": [
            "True\n",
            "False\n"
          ]
        }
      ]
    },
    {
      "cell_type": "code",
      "source": [
        "print(bool(2)) # Esto esta mal hecho, no se hace"
      ],
      "metadata": {
        "colab": {
          "base_uri": "https://localhost:8080/"
        },
        "id": "X0iG9vINoPD9",
        "outputId": "8e695071-69b3-42e5-cf78-00a5c2fb34a3"
      },
      "execution_count": 11,
      "outputs": [
        {
          "output_type": "stream",
          "name": "stdout",
          "text": [
            "True\n"
          ]
        }
      ]
    },
    {
      "cell_type": "code",
      "source": [
        "print(str(178))"
      ],
      "metadata": {
        "colab": {
          "base_uri": "https://localhost:8080/"
        },
        "id": "WBVrpaoFoeFB",
        "outputId": "4b04a497-bd2e-4fdc-adb9-59758ade6440"
      },
      "execution_count": 12,
      "outputs": [
        {
          "output_type": "stream",
          "name": "stdout",
          "text": [
            "178\n"
          ]
        }
      ]
    },
    {
      "cell_type": "code",
      "source": [
        "# operaciones\n",
        "# Asignacion - Asignar un valor a una variable\n",
        "# Aritmeticas\n",
        "# Suma - Resta - Multiplicacion\n",
        "\n",
        "edad = 29\n",
        "cumplir = 43\n",
        "print(edad + cumplir)\n",
        "print(edad * cumplir)\n",
        "print(cumplir - edad)\n",
        "print(edad - cumplir)\n",
        "print(type(edad - cumplir))"
      ],
      "metadata": {
        "colab": {
          "base_uri": "https://localhost:8080/"
        },
        "id": "wkDOQpP-o7an",
        "outputId": "a8bb9a95-d308-4ed1-dea6-4b67dc41343e"
      },
      "execution_count": 13,
      "outputs": [
        {
          "output_type": "stream",
          "name": "stdout",
          "text": [
            "72\n",
            "1247\n",
            "14\n",
            "-14\n",
            "<class 'int'>\n"
          ]
        }
      ]
    },
    {
      "cell_type": "code",
      "source": [
        "# Vamos a ver el resto de operaciones aritmeticas\n",
        "print(cumplir / edad)\n",
        "print(edad / cumplir) # Division normal\n",
        "print(cumplir // edad) # Division Entera"
      ],
      "metadata": {
        "colab": {
          "base_uri": "https://localhost:8080/"
        },
        "id": "vEMuSnMTpeh-",
        "outputId": "5348627b-0355-458c-ac5b-cff97ee37ceb"
      },
      "execution_count": 14,
      "outputs": [
        {
          "output_type": "stream",
          "name": "stdout",
          "text": [
            "1.4827586206896552\n",
            "0.6744186046511628\n",
            "1\n"
          ]
        }
      ]
    },
    {
      "cell_type": "code",
      "source": [
        "print(2 ** 2) # Potenciacion\n",
        "print(2 ** 3)\n",
        "print(2 ** (1/2)) # raiz cuadrada\n",
        "print(2 ** (1/3)) # raiz cubica"
      ],
      "metadata": {
        "colab": {
          "base_uri": "https://localhost:8080/"
        },
        "id": "cOrfSF16qgtz",
        "outputId": "b32a080f-c7a6-47ce-9c3d-00da1ead8479"
      },
      "execution_count": 15,
      "outputs": [
        {
          "output_type": "stream",
          "name": "stdout",
          "text": [
            "4\n",
            "8\n",
            "1.4142135623730951\n",
            "1.2599210498948732\n"
          ]
        }
      ]
    },
    {
      "cell_type": "code",
      "source": [
        "# operacion modulo\n",
        "print(20 % 3) # El operador modulo es %\n",
        "# Todo numero que cuando se haga la operacion modulo con 2\n",
        "# y de 0 es PAR\n",
        "# Todo numero que cuando se haga la operacion modulo con 2\n",
        "# y de 1 es IMPAR"
      ],
      "metadata": {
        "colab": {
          "base_uri": "https://localhost:8080/"
        },
        "id": "uDaVK8-nq6hv",
        "outputId": "ff1598f0-8c82-49a8-da0f-3d8244f467c7"
      },
      "execution_count": 16,
      "outputs": [
        {
          "output_type": "stream",
          "name": "stdout",
          "text": [
            "2\n"
          ]
        }
      ]
    },
    {
      "cell_type": "code",
      "source": [
        "tiene_calor = True\n",
        "vino_bici = True\n",
        "tiene_mac = False\n",
        "tiene_reloj = False\n",
        "\n",
        "\n",
        "# operaciones booleanas\n",
        "# AND, OR, NOT\n",
        "\n",
        "print(tiene_calor and vino_bici)\n",
        "print(tiene_mac and tiene_reloj)\n",
        "# AND es una \"multiplicacion\"\n",
        "# OR es una \"suma\"\n",
        "\n",
        "# AND\n",
        "# 1 * 1 = 1\n",
        "# 1 * 0 = 0\n",
        "# 0 * 1 = 0\n",
        "# 0 * 0 = 0\n",
        "\n",
        "# OR\n",
        "# 1 + 1 = 1\n",
        "# 1 + 0 = 1\n",
        "# 0 + 1 = 1\n",
        "# 0 + 0 = 0"
      ],
      "metadata": {
        "colab": {
          "base_uri": "https://localhost:8080/"
        },
        "id": "AkIPIjZ3taN_",
        "outputId": "eef2a82e-31d2-45d7-c3d6-03b348e3dc71"
      },
      "execution_count": 17,
      "outputs": [
        {
          "output_type": "stream",
          "name": "stdout",
          "text": [
            "True\n",
            "False\n"
          ]
        }
      ]
    },
    {
      "cell_type": "code",
      "source": [
        "print(not(tiene_mac)) # operador negacion\n",
        "print(not(tiene_calor))"
      ],
      "metadata": {
        "colab": {
          "base_uri": "https://localhost:8080/"
        },
        "id": "6YsBgdGgu_IW",
        "outputId": "0eaeb262-0ced-4f6a-c01e-371b2b89cd2e"
      },
      "execution_count": 18,
      "outputs": [
        {
          "output_type": "stream",
          "name": "stdout",
          "text": [
            "True\n",
            "False\n"
          ]
        }
      ]
    },
    {
      "cell_type": "code",
      "source": [
        "print(\n",
        "    5 + 10,\n",
        "    \"Libro\",\n",
        "    \"W\",\n",
        "    5 // 2\n",
        ")\n",
        "a = 5\n",
        "print(5 + 10, \"Libro\", \"W\", 5 // 2)"
      ],
      "metadata": {
        "colab": {
          "base_uri": "https://localhost:8080/"
        },
        "id": "sW5vgJXC0V3L",
        "outputId": "086dbd6b-c2cf-4a5d-a3a8-c9922f62eaf3"
      },
      "execution_count": 19,
      "outputs": [
        {
          "output_type": "stream",
          "name": "stdout",
          "text": [
            "15 Libro W 2\n",
            "15 Libro W 2\n"
          ]
        }
      ]
    },
    {
      "cell_type": "code",
      "source": [
        "print(\"Libro\")"
      ],
      "metadata": {
        "colab": {
          "base_uri": "https://localhost:8080/"
        },
        "id": "ZTxroy8u0p3H",
        "outputId": "4afec73e-71f8-483c-a1d7-88a05847cf5e"
      },
      "execution_count": 20,
      "outputs": [
        {
          "output_type": "stream",
          "name": "stdout",
          "text": [
            "Libro\n"
          ]
        }
      ]
    },
    {
      "cell_type": "code",
      "source": [
        "print(5 + (15 * (3 % 2)))"
      ],
      "metadata": {
        "colab": {
          "base_uri": "https://localhost:8080/"
        },
        "id": "8LtbdLQT7GlZ",
        "outputId": "1aecfbc3-9bee-4837-cf35-53bbff5b27c6"
      },
      "execution_count": 21,
      "outputs": [
        {
          "output_type": "stream",
          "name": "stdout",
          "text": [
            "20\n"
          ]
        }
      ]
    },
    {
      "cell_type": "code",
      "source": [
        "\"\"\"\n",
        "Exercise 21: Area of a Triangle\n",
        "(13 Lines) The area of a triangle can be computed using the following formula, where b is the\n",
        "length of the base of the triangle, and h is its height: area = b × h\n",
        "2\n",
        "Write a program that allows the user to enter values for b and h. The program should\n",
        "then compute and display the area of a triangle with base length b and height h.\n",
        "\"\"\"\n",
        "# \\n Significa salto de linea\n",
        "base = input(\"Cual es la base del triangulo? \")\n",
        "altura = input(\"Cual es la altura del triangulo? \")\n",
        "print(\"Base del triangulo: \\n\", base)\n",
        "print(\"Altura del triangulo: \\n\", altura)\n",
        "base_float = float(base)\n",
        "altura_float = float(altura)\n",
        "\n",
        "print(\"Tipo de dato de la base:\", type(base_float))\n",
        "print(\"Tipo de dato de la altura:\", type(altura_float))\n",
        "area = (base_float * altura_float) / 2\n",
        "print(\"Area del triangulo: \", area)"
      ],
      "metadata": {
        "colab": {
          "base_uri": "https://localhost:8080/"
        },
        "id": "CqxiVU-G10LC",
        "outputId": "14bca797-ac95-4a12-9c99-ba103dc9fe99"
      },
      "execution_count": 22,
      "outputs": [
        {
          "output_type": "stream",
          "name": "stdout",
          "text": [
            "Cual es la base del triangulo? 5\n",
            "Cual es la altura del triangulo? 2\n",
            "Base del triangulo: \n",
            " 5\n",
            "Altura del triangulo: \n",
            " 2\n",
            "Tipo de dato de la base: <class 'float'>\n",
            "Tipo de dato de la altura: <class 'float'>\n",
            "Area del triangulo:  5.0\n"
          ]
        }
      ]
    },
    {
      "cell_type": "code",
      "source": [
        "base = float(input(\"Cual es la base del triangulo? \"))\n",
        "altura = float(input(\"Cual es la altura del triangulo? \"))\n",
        "print(\"Base del triangulo: \\n\", base)\n",
        "print(\"Altura del triangulo: \\n\", altura)\n",
        "\n",
        "print(\"Tipo de dato de la base:\", type(base))\n",
        "print(\"Tipo de dato de la altura:\", type(altura))\n",
        "print(\"Area del triangulo:\", (base * altura) / 2)"
      ],
      "metadata": {
        "colab": {
          "base_uri": "https://localhost:8080/"
        },
        "id": "Rj99KsR85iFm",
        "outputId": "532d365f-0af8-48ce-c153-6af47ac96622"
      },
      "execution_count": 23,
      "outputs": [
        {
          "output_type": "stream",
          "name": "stdout",
          "text": [
            "Cual es la base del triangulo? 5\n",
            "Cual es la altura del triangulo? 2\n",
            "Base del triangulo: \n",
            " 5.0\n",
            "Altura del triangulo: \n",
            " 2.0\n",
            "Tipo de dato de la base: <class 'float'>\n",
            "Tipo de dato de la altura: <class 'float'>\n",
            "Area del triangulo: 5.0\n"
          ]
        }
      ]
    },
    {
      "cell_type": "code",
      "source": [
        "# Palabras reservadas\n",
        "# print = 5\n",
        "# print, input, int, float, str, bool, def ,for, while, if, pass, and, or, not, else\n",
        "# Estas palabras estan reservadas por python para cosas de python\n",
        "# y si las sobreescribo, debo reiniciar mi sesion"
      ],
      "metadata": {
        "id": "ncj0Ue5R6Bxz"
      },
      "execution_count": null,
      "outputs": []
    },
    {
      "cell_type": "code",
      "source": [
        "print(a)"
      ],
      "metadata": {
        "colab": {
          "base_uri": "https://localhost:8080/"
        },
        "id": "eWk4pWEJ9ui5",
        "outputId": "463f3cf4-490e-4b8c-e012-3a62d630853e"
      },
      "execution_count": 26,
      "outputs": [
        {
          "output_type": "stream",
          "name": "stdout",
          "text": [
            "5\n"
          ]
        }
      ]
    },
    {
      "cell_type": "code",
      "source": [
        "\"\"\"\n",
        "Exercise 32: Sum of the Digits in an Integer\n",
        "(18 Lines) Develop a program that reads a four-digit integer from the user and\n",
        "displays the sum of its digits. For example, if the user enters 3141 then your\n",
        "program should display\n",
        "3+1+4+1=9.\n",
        "\"\"\""
      ],
      "metadata": {
        "id": "mrZgCB6K_Bp0"
      },
      "execution_count": null,
      "outputs": []
    },
    {
      "cell_type": "code",
      "source": [
        "# Comillas\n",
        "# Yo en python puedo utilizar comillas dobles y comillas simples\n",
        "# PERO NO las dos\n",
        "libro = \"harry potter\"\n",
        "libro_2 = 'señor de los anillos'\n",
        "print(libro)\n",
        "print(libro_2)\n",
        "\n",
        "texto_con_comillas = \"A mi amigo le dicen don 'Quijote'\"\n",
        "print(texto_con_comillas)\n",
        "\n",
        "texto_con_otras_comillas = 'A mi amigo le dicen \"casanova\"'\n",
        "print(texto_con_otras_comillas)\n",
        "\n",
        "# Porque no puedo utilizar las mismas\n",
        "# texto_de_prueba = \"A mi amigo le dicen don \"quijote\"\""
      ],
      "metadata": {
        "colab": {
          "base_uri": "https://localhost:8080/"
        },
        "id": "kS7za-Z6AmGP",
        "outputId": "80a3c86a-3174-4d54-bf26-57a5e3394f8d"
      },
      "execution_count": 33,
      "outputs": [
        {
          "output_type": "stream",
          "name": "stdout",
          "text": [
            "harry potter\n",
            "señor de los anillos\n",
            "A mi amigo le dicen don 'Quijote'\n",
            "A mi amigo le dicen \"casanova\"\n"
          ]
        }
      ]
    },
    {
      "cell_type": "code",
      "source": [
        "# Nuevo tipo de dato\n",
        "# manzana, pera, piña\n",
        "# a, b, c\n",
        "# 20, 30, 25, 35, 27, 30\n",
        "# 5, 5, 5, 5, 5, 5\n",
        "# verde, azul\n",
        "\n",
        "# LISTAS - Arreglo\n",
        "# Python lo llama list\n",
        "# Asi como las Strings se llaman str\n",
        "# Y asi como los Integers se llaman int\n",
        "# Las Lists se llaman list\n",
        "\n",
        "# Las listas tienen dos propiedades\n",
        "# Su nombre, y sus elementos\n",
        "\n",
        "# INDEXACION\n",
        "\n",
        "frutas = [\"manzana\", \"pera\", \"piña\"]\n",
        "letras_del_abecedario = [\"a\", \"b\", \"c\"]\n",
        "variables_a_usar_en_clima = [\"caliente\", 23.2, 1.1, True]\n",
        "\n",
        "print(type(frutas))\n",
        "print(frutas)\n",
        "# Como se extrae un elemento de una lista\n",
        "# Debo\n",
        "# 1. Llamar la lista\n",
        "# 2. Abrir y cerrar corchetes\n",
        "# 3. Poner el indice del elemento que quiero extraer\n",
        "print(\"-----------------\")\n",
        "print(\"Elementos de mi lista\")\n",
        "print(frutas[0])\n",
        "print(frutas[1])\n",
        "print(frutas[2])\n",
        "print(frutas[-1]) # otra forma de extraer el elemento de la lista es con el indice\n",
        "# Para saber cuantos elementos tengo en mi lista, debo usar\n",
        "# LEN - que es la abreviacion de length que es longitud\n",
        "print(len(frutas))\n",
        "# Para añadir un nuevo elemento a mi lista, hay dos formas\n",
        "# Forma numero 1 de añadir - APPEND\n",
        "# 1. Llamar la lista\n",
        "# 2. Poner PUNTO append\n",
        "# 3. Entre parentesis poner el elemento que voy a añadir\n",
        "frutas.append(\"fresa\")\n",
        "print(frutas)\n",
        "print(len(frutas))\n",
        "# Forma numero 2 de añadir - INSERT\n",
        "# 1. Llamar la lista\n",
        "# 2. Poner PUNTO insert\n",
        "# 3. entre parentesis poner, primero posicion, despues el elemento\n",
        "frutas.insert(1, \"mora\")\n",
        "print(frutas)"
      ],
      "metadata": {
        "colab": {
          "base_uri": "https://localhost:8080/"
        },
        "id": "dZ8UKeYO_OAf",
        "outputId": "833a112c-3d36-46e7-fe74-72b1c6567c54"
      },
      "execution_count": 47,
      "outputs": [
        {
          "output_type": "stream",
          "name": "stdout",
          "text": [
            "<class 'list'>\n",
            "['manzana', 'pera', 'piña']\n",
            "-----------------\n",
            "Elementos de mi lista\n",
            "manzana\n",
            "pera\n",
            "piña\n",
            "piña\n",
            "3\n",
            "['manzana', 'pera', 'piña', 'fresa']\n",
            "4\n",
            "['manzana', 'mora', 'pera', 'piña', 'fresa']\n"
          ]
        }
      ]
    },
    {
      "cell_type": "code",
      "source": [
        "print(frutas[0])\n",
        "primera_fruta = frutas[0]\n",
        "print(list(primera_fruta))\n",
        "print(type(list(primera_fruta)))"
      ],
      "metadata": {
        "colab": {
          "base_uri": "https://localhost:8080/"
        },
        "id": "sLZ6ovwMGH-A",
        "outputId": "01f965d1-a088-4a2a-b561-3f50de8b65d8"
      },
      "execution_count": 53,
      "outputs": [
        {
          "output_type": "stream",
          "name": "stdout",
          "text": [
            "manzana\n",
            "['m', 'a', 'n', 'z', 'a', 'n', 'a']\n",
            "<class 'list'>\n"
          ]
        }
      ]
    },
    {
      "cell_type": "code",
      "source": [
        "print(type(frutas[1]))"
      ],
      "metadata": {
        "colab": {
          "base_uri": "https://localhost:8080/"
        },
        "id": "MVjVQ_4oHhWG",
        "outputId": "6a898829-3c9b-4a3d-fa91-d7adfbc5552c"
      },
      "execution_count": 54,
      "outputs": [
        {
          "output_type": "stream",
          "name": "stdout",
          "text": [
            "<class 'str'>\n"
          ]
        }
      ]
    },
    {
      "cell_type": "code",
      "source": [
        "numero_ejercicio_32 = input(\"Ingresa un numero de 4 digitos: \")\n",
        "lista_del_numero = list(numero_ejercicio_32)\n",
        "\n",
        "primer_numero = int(lista_del_numero[0])\n",
        "segundo_numero = int(lista_del_numero[1])\n",
        "tercer_numero = int(lista_del_numero[2])\n",
        "cuarto_numero = int(lista_del_numero[3])\n",
        "\n",
        "suma_del_numero = primer_numero + segundo_numero + tercer_numero + cuarto_numero\n",
        "print(suma_del_numero)"
      ],
      "metadata": {
        "colab": {
          "base_uri": "https://localhost:8080/"
        },
        "id": "ZoMH2i3rG4NQ",
        "outputId": "76d82bda-621d-4132-9662-ee8ebd124f11"
      },
      "execution_count": 63,
      "outputs": [
        {
          "output_type": "stream",
          "name": "stdout",
          "text": [
            "Ingresa un numero de 4 digitos: 3141\n",
            "9\n"
          ]
        }
      ]
    },
    {
      "cell_type": "code",
      "source": [
        "list(\"3141.0\")"
      ],
      "metadata": {
        "colab": {
          "base_uri": "https://localhost:8080/"
        },
        "id": "YznvF7x1I4eQ",
        "outputId": "0bd5658e-2ee1-454f-dd2d-286305aaa5f2"
      },
      "execution_count": 61,
      "outputs": [
        {
          "output_type": "execute_result",
          "data": {
            "text/plain": [
              "['3', '1', '4', '1', '.', '0']"
            ]
          },
          "metadata": {},
          "execution_count": 61
        }
      ]
    }
  ]
}