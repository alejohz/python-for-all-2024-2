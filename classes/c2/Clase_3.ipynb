{
  "nbformat": 4,
  "nbformat_minor": 0,
  "metadata": {
    "colab": {
      "provenance": []
    },
    "kernelspec": {
      "name": "python3",
      "display_name": "Python 3"
    },
    "language_info": {
      "name": "python"
    }
  },
  "cells": [
    {
      "cell_type": "markdown",
      "source": [
        "# Clase 3\n",
        "Contenido\n",
        "- Preguntas ejercicios anteriores (2, 3, 6, 10)\n",
        "- Módulo de ayuda (help)\n",
        "- Módulo matemático (Breve introducción a modulos y paquetes built-in)\n",
        "- Contenedores\n",
        "  - Listas (Repaso)\n",
        "  - Diccionarios\n",
        "  - Tuplas\n",
        "- Condicionales\n",
        "- Ejercicios (32, 34, 35, 36)\n",
        "- Ejercicios (45, 60, 104)\n",
        "- Ciclos\n",
        "- Ejercicios (45, 60, 104)\n",
        "- Ciclos (For)\n",
        "- Listas (Sort y Sorted)\n",
        "- Ejercicios (114, 115)\n",
        "- Ciclos (While), sleep\n",
        "- Ejercicios (61, 62)\n",
        "- List comprehension (Comprensión de listas)"
      ],
      "metadata": {
        "id": "9IIJmm4loEPn"
      }
    },
    {
      "cell_type": "markdown",
      "source": [
        "### Tema de estudio\n",
        "- Qué es Github y Gitlab?\n",
        "- Qué es Docker?\n",
        "\n",
        "### Ejercicios de estudio\n",
        "- 38, 46, 48, 50"
      ],
      "metadata": {
        "id": "4wLJlF8RoUpc"
      }
    },
    {
      "cell_type": "code",
      "source": [
        "help(\"keywords\")"
      ],
      "metadata": {
        "colab": {
          "base_uri": "https://localhost:8080/"
        },
        "id": "kru38V95nzRg",
        "outputId": "de19f7af-e7c3-4a09-a0da-17fa80b367a5"
      },
      "execution_count": null,
      "outputs": [
        {
          "output_type": "stream",
          "name": "stdout",
          "text": [
            "\n",
            "Here is a list of the Python keywords.  Enter any keyword to get more help.\n",
            "\n",
            "False               class               from                or\n",
            "None                continue            global              pass\n",
            "True                def                 if                  raise\n",
            "and                 del                 import              return\n",
            "as                  elif                in                  try\n",
            "assert              else                is                  while\n",
            "async               except              lambda              with\n",
            "await               finally             nonlocal            yield\n",
            "break               for                 not                 \n",
            "\n"
          ]
        }
      ]
    },
    {
      "cell_type": "code",
      "source": [
        "# BUILT - IN\n",
        "# Funciones built-in\n",
        "# print, input, help, type\n",
        "# Modulos\n",
        "# math modulo matematico\n",
        "# Operadores built in\n",
        "# +, * /, //, %\n",
        "# La forma en la que importamos modulos es\n",
        "# con la palabra reservada import\n",
        "# import NOMBRE_DEL_MODULO\n",
        "import math # Aqui importamos math\n",
        "\n",
        "# Hay dos formas de importar modulos\n",
        "# El modulo completo\n",
        "# O solo algunas partes del modulo\n",
        "# 1. Velocidad (Es más rapido importar solo un pedazo, que todo el modulo completo) Tema Menor\n",
        "# 2. Por nombres cruzados\n",
        "\n",
        "# Segunda forma de importar solo pedazos de un modulo\n",
        "from math import sqrt, log10 # aca estoy importando solo sqrt y log10\n",
        "\n",
        "# Top 3 de librerias más famosas\n",
        "# 1. matplotlib (visualizacion) (plotly, seaborn)\n",
        "# 2. pandas (manejo de datos) (polars)\n",
        "# 3. numpy (Numerical Python - Python rapido)\n",
        "# Honorable mentions: transformers, dash, streamlit, sqllite3, email, fastapi"
      ],
      "metadata": {
        "id": "tuf0hcJsXNta"
      },
      "execution_count": null,
      "outputs": []
    },
    {
      "cell_type": "code",
      "source": [
        "# Como ver solo N numeros decimales\n",
        "# Para esto vamos a usar algo llamado FORMATTED STRINGS\n",
        "# Del nombre Formatted Strings sale la palabra f-strings\n",
        "# Lo unico que se puede formatear es un texto\n",
        "string_1 = \"2.41345\"\n",
        "print(string_1)\n",
        "print(type(string_1))\n",
        "\n",
        "# Nuestra primera f-string\n",
        "# La forma de crear una f strings es poner una f antes de las comillas\n",
        "# f''\n",
        "# f\"\"\n",
        "# Para introducir variables en una f strings uso {} (llaves o curly brackets)\n",
        "int_1 = 2.41345\n",
        "f_string_1 = f\"{int_1}\"\n",
        "print(f_string_1)\n",
        "print(type(f_string_1))"
      ],
      "metadata": {
        "id": "N6PnC5kQn8c4",
        "colab": {
          "base_uri": "https://localhost:8080/"
        },
        "outputId": "f16f1902-a247-4110-a28d-1293bc207ea2"
      },
      "execution_count": 6,
      "outputs": [
        {
          "output_type": "stream",
          "name": "stdout",
          "text": [
            "2.41345\n",
            "<class 'str'>\n",
            "2.41345\n",
            "<class 'str'>\n"
          ]
        }
      ]
    },
    {
      "cell_type": "code",
      "source": [
        "nombre = \"Juan\"\n",
        "edad = 13.54368347483\n",
        "# Formato inicia despues de los dos puntos\n",
        "# . significa que es el separador\n",
        "# 2 es el numero de decimales\n",
        "# f es el tipo de dato, que es float\n",
        "print(f\"Hola, Soy {nombre}.\\nTengo {edad: .2f} años.\") # f string\n",
        "print(\"Hola, Soy {nombre}.\\nTengo {edad: .2f} años.\") # NO f string"
      ],
      "metadata": {
        "colab": {
          "base_uri": "https://localhost:8080/"
        },
        "id": "75voY2MGUFce",
        "outputId": "fe11c6a1-9f7d-4876-ad8e-ab370c8ba499"
      },
      "execution_count": 19,
      "outputs": [
        {
          "output_type": "stream",
          "name": "stdout",
          "text": [
            "Hola, Soy Juan.\n",
            "Tengo  13.54 años.\n",
            "Hola, Soy {nombre}.\n",
            "Tengo {edad: .2f} años.\n"
          ]
        }
      ]
    },
    {
      "cell_type": "code",
      "source": [
        "costo = 34.55\n",
        "tax = 0.193\n",
        "tip = 0.054\n",
        "costo_total = 34.5 + (34.5 * tax) + (34.5 * tip)\n",
        "print(f\"{costo_total: .2f}\")"
      ],
      "metadata": {
        "colab": {
          "base_uri": "https://localhost:8080/"
        },
        "id": "LsZlRzQKWNYd",
        "outputId": "dba5875c-9419-44ec-8227-4cd434f78796"
      },
      "execution_count": 22,
      "outputs": [
        {
          "output_type": "stream",
          "name": "stdout",
          "text": [
            " 43.02\n"
          ]
        }
      ]
    },
    {
      "cell_type": "code",
      "source": [
        "# Repaso contenedores (dicts, tuple)\n",
        "fruits = [\"apples\", \"bananas\", \"oranges\"]\n",
        "print(fruits)\n",
        "print(type(fruits))\n",
        "print(type(fruits[0]))"
      ],
      "metadata": {
        "colab": {
          "base_uri": "https://localhost:8080/"
        },
        "id": "V9qFySWvcDDU",
        "outputId": "01968b1c-e9b3-4f2a-e3fc-fab88b47a2c7"
      },
      "execution_count": 25,
      "outputs": [
        {
          "output_type": "stream",
          "name": "stdout",
          "text": [
            "['apples', 'bananas', 'oranges']\n",
            "<class 'list'>\n",
            "<class 'str'>\n"
          ]
        }
      ]
    },
    {
      "cell_type": "code",
      "source": [
        "# Diccionario\n",
        "# Me permiten almacenar pares de KEY VALUE (llave valor)\n",
        "# Solo se pueden almacenar por pares\n",
        "# Las llaves no se pueden repetir\n",
        "# los valores si se pueden repetir\n",
        "# Los diccionarios se crean con llaves\n",
        "diccionario_1 = {\"fruit_1\": \"apples\"}\n",
        "\n",
        "luis = {\n",
        "    \"edad\": 22,\n",
        "    \"ciudad\": \"medellin\",\n",
        "    \"eps\": \"nueva eps\",\n",
        "    \"tennis\": \"blancos\"\n",
        "}\n",
        "\n",
        "estudiantes = {\n",
        "    \"edades\": [22, 23, 24],\n",
        "    \"ciudades\": [\"medellin\", \"envigado\", \"la estrella\"]\n",
        "}\n",
        "pagos = {\n",
        "    \"negro\": 1000,\n",
        "    \"rojo\": 2000,\n",
        "    \"1 al 24\": 300\n",
        "}\n",
        "frutas_preferidas = {\n",
        "    \"primer_puesto\": \"manzanas\",\n",
        "    \"segundo_puesto\": \"banano\",\n",
        "    \"tercer_puesto\": \"naranja\"\n",
        "}"
      ],
      "metadata": {
        "id": "LoekDiBgceMH"
      },
      "execution_count": 31,
      "outputs": []
    },
    {
      "cell_type": "code",
      "source": [
        "print(luis[\"edad\"])\n",
        "print(estudiantes[\"ciudades\"])"
      ],
      "metadata": {
        "colab": {
          "base_uri": "https://localhost:8080/"
        },
        "id": "3HLDPGDld4F-",
        "outputId": "d9c8d1a8-52f1-4554-8c28-49c196c01ddd"
      },
      "execution_count": 29,
      "outputs": [
        {
          "output_type": "stream",
          "name": "stdout",
          "text": [
            "22\n",
            "['medellin', 'envigado', 'la estrella']\n"
          ]
        }
      ]
    },
    {
      "cell_type": "code",
      "source": [
        "print(fruits[0])"
      ],
      "metadata": {
        "colab": {
          "base_uri": "https://localhost:8080/"
        },
        "id": "39fpo9zqeGkL",
        "outputId": "614bf0d3-7570-4982-b249-7611c3b28c9a"
      },
      "execution_count": 30,
      "outputs": [
        {
          "output_type": "stream",
          "name": "stdout",
          "text": [
            "apples\n"
          ]
        }
      ]
    },
    {
      "cell_type": "code",
      "source": [
        "print(frutas_preferidas[\"primer_puesto\"])"
      ],
      "metadata": {
        "colab": {
          "base_uri": "https://localhost:8080/"
        },
        "id": "Nt1LkKJhegxp",
        "outputId": "a5f47cd8-7d71-4a76-a57f-e86ccbb89ece"
      },
      "execution_count": 32,
      "outputs": [
        {
          "output_type": "stream",
          "name": "stdout",
          "text": [
            "manzanas\n"
          ]
        }
      ]
    },
    {
      "cell_type": "code",
      "source": [
        "# Como reemplazar (O crear) el valor de una llave\n",
        "# 1. llamar el diccionario\n",
        "# 2. Abro corchetes\n",
        "# 3. Dentro de los corchetes pongo la llave a reemplazar (O crear)\n",
        "# 4. igual\n",
        "# 5. Valor que va a reemplazar (O crear)\n",
        "frutas_preferidas[\"primer_puesto\"] = \"\""
      ],
      "metadata": {
        "id": "bDK_-Y5vejKG"
      },
      "execution_count": 35,
      "outputs": []
    },
    {
      "cell_type": "code",
      "source": [
        "print(frutas_preferidas[\"primer_puesto\"])"
      ],
      "metadata": {
        "colab": {
          "base_uri": "https://localhost:8080/"
        },
        "id": "i0dqRqrZeyqP",
        "outputId": "fb309db8-1554-4f69-ed18-fb3849df9662"
      },
      "execution_count": 36,
      "outputs": [
        {
          "output_type": "stream",
          "name": "stdout",
          "text": [
            "\n"
          ]
        }
      ]
    },
    {
      "cell_type": "code",
      "source": [
        "print(type(luis))"
      ],
      "metadata": {
        "colab": {
          "base_uri": "https://localhost:8080/"
        },
        "id": "t9hdrKIPgGjz",
        "outputId": "191f2d69-2f52-409d-ab4d-2fc063812883"
      },
      "execution_count": 39,
      "outputs": [
        {
          "output_type": "stream",
          "name": "stdout",
          "text": [
            "<class 'dict'>\n"
          ]
        }
      ]
    },
    {
      "cell_type": "code",
      "source": [
        "# Ver llaves y valores\n",
        "print(luis.keys())\n",
        "print(luis.values())"
      ],
      "metadata": {
        "colab": {
          "base_uri": "https://localhost:8080/"
        },
        "id": "8pw9UYU1fyvy",
        "outputId": "a263eeb1-af99-4d24-fda1-3b8fc2828c60"
      },
      "execution_count": 38,
      "outputs": [
        {
          "output_type": "stream",
          "name": "stdout",
          "text": [
            "dict_keys(['edad', 'ciudad', 'eps', 'tennis'])\n",
            "dict_values([22, 'medellin', 'nueva eps', 'blancos'])\n"
          ]
        }
      ]
    },
    {
      "cell_type": "code",
      "source": [
        "luis[\"apellido\"] = \"Moreno\""
      ],
      "metadata": {
        "id": "MhZgLCtygJme"
      },
      "execution_count": 40,
      "outputs": []
    },
    {
      "cell_type": "code",
      "source": [
        "print(luis)"
      ],
      "metadata": {
        "colab": {
          "base_uri": "https://localhost:8080/"
        },
        "id": "tA06kqYQgShg",
        "outputId": "ba18f2f3-32f3-4138-ca1e-70dfb7f7c707"
      },
      "execution_count": 41,
      "outputs": [
        {
          "output_type": "stream",
          "name": "stdout",
          "text": [
            "{'edad': 22, 'ciudad': 'medellin', 'eps': 'nueva eps', 'tennis': 'blancos', 'apellido': 'Moreno'}\n"
          ]
        }
      ]
    },
    {
      "cell_type": "code",
      "source": [
        "print(luis.keys())"
      ],
      "metadata": {
        "colab": {
          "base_uri": "https://localhost:8080/"
        },
        "id": "WyYNO31jgV_k",
        "outputId": "b9ff372b-b1fd-477b-9791-33f1a9aba865"
      },
      "execution_count": 42,
      "outputs": [
        {
          "output_type": "stream",
          "name": "stdout",
          "text": [
            "dict_keys(['edad', 'ciudad', 'eps', 'tennis', 'apellido'])\n"
          ]
        }
      ]
    },
    {
      "cell_type": "code",
      "source": [
        "print(luis.items())"
      ],
      "metadata": {
        "colab": {
          "base_uri": "https://localhost:8080/"
        },
        "id": "esQenfQslOhA",
        "outputId": "0e004b0a-f4ac-40cd-da96-f27d0b2c4ee1"
      },
      "execution_count": 45,
      "outputs": [
        {
          "output_type": "stream",
          "name": "stdout",
          "text": [
            "dict_items([('edad', 22), ('ciudad', 'medellin'), ('eps', 'nueva eps'), ('tennis', 'blancos'), ('apellido', 'Moreno')])\n"
          ]
        }
      ]
    },
    {
      "cell_type": "code",
      "source": [
        "# Tuplas\n",
        "# las tuplas se crean con parentesis\n",
        "tuple_1 = (22, 23)\n",
        "print(tuple_1)\n",
        "print(type(tuple_1))"
      ],
      "metadata": {
        "colab": {
          "base_uri": "https://localhost:8080/"
        },
        "id": "0O0tSkdyjyOF",
        "outputId": "8623dd01-1f9c-4b4c-d42e-8e135caa1292"
      },
      "execution_count": 44,
      "outputs": [
        {
          "output_type": "stream",
          "name": "stdout",
          "text": [
            "(22, 23)\n",
            "<class 'tuple'>\n"
          ]
        }
      ]
    },
    {
      "cell_type": "code",
      "source": [
        "# Condicionales\n",
        "# Son muy utiles para evaluar condiciones y que pasen cosas\n",
        "# dependiendo de si las condiciones se cumplen o no se cumplen\n",
        "# Lo bueno de los condicionales es que podemos hacer similes\n",
        "# con el lenguaje natural\n",
        "\n",
        "tiene_calor = True\n",
        "tiene_buzo = True\n",
        "\n",
        "if tiene_calor and tiene_buzo:\n",
        "  print(\"Esta enfermo\") # identación\n",
        "else:\n",
        "  print(\"Es normal\") # este esta adentro\n",
        "print(\"El ciclo termino\") # este esta afuera\n",
        "\n"
      ],
      "metadata": {
        "colab": {
          "base_uri": "https://localhost:8080/"
        },
        "id": "UpT6xwJtmEGb",
        "outputId": "b53c418e-77e1-4036-8401-dd089db8e1cd"
      },
      "execution_count": 55,
      "outputs": [
        {
          "output_type": "stream",
          "name": "stdout",
          "text": [
            "Esta enfermo\n",
            "El ciclo termino\n"
          ]
        }
      ]
    },
    {
      "cell_type": "code",
      "source": [
        "tiene_camiseta_blanca = False\n",
        "es_mujer = True\n",
        "\n",
        "if tiene_camiseta_blanca and es_mujer:\n",
        "  print(\"Es Maria Isabel o Cristina\")\n",
        "elif tiene_camiseta_blanca and not(es_mujer):\n",
        "  print(\"Es Daniel\")\n",
        "else:\n",
        "  print(\"Es alguien del resto del grupo\")\n"
      ],
      "metadata": {
        "colab": {
          "base_uri": "https://localhost:8080/"
        },
        "id": "WupuBnXfnzW6",
        "outputId": "07c60b86-ffbf-4e97-d60b-0a5fb3dc4355"
      },
      "execution_count": 59,
      "outputs": [
        {
          "output_type": "stream",
          "name": "stdout",
          "text": [
            "Es alguien del resto del grupo\n"
          ]
        }
      ]
    },
    {
      "cell_type": "code",
      "source": [
        "tiene_frio = True\n",
        "aire_acondicionado = False\n",
        "esta_de_noche = False\n",
        "tiene_buso = True\n",
        "\n",
        "if tiene_frio:\n",
        "  if aire_acondicionado:\n",
        "    print(\"Apague el aire\") # A\n",
        "  elif esta_de_noche:\n",
        "    print(\"Arropese\") # B\n",
        "  elif not(tiene_buso):\n",
        "    print(\"Pongase un buso\") # C 1\n",
        "  else:\n",
        "    print(\"Prenda una fogata\") # D 3\n",
        "else:\n",
        "  print(\"Que bien\") # E"
      ],
      "metadata": {
        "colab": {
          "base_uri": "https://localhost:8080/"
        },
        "id": "is8ko02QpbWR",
        "outputId": "4afd31e8-6f21-48a4-8375-5cb6cd6484d8"
      },
      "execution_count": 66,
      "outputs": [
        {
          "output_type": "stream",
          "name": "stdout",
          "text": [
            "Prenda una fogata\n"
          ]
        }
      ]
    },
    {
      "cell_type": "markdown",
      "source": [
        "\n",
        "Exercise 34: Day Old Bread\n",
        "\n",
        "A bakery sells loaves of bread for $3.49 each. Day old bread is discounted by 60 percent.\n",
        "\n",
        "Write a program that begins by reading the number of loaves of day old bread being purchased from the user.\n",
        "\n",
        "Then your program should display the regular price for the bread,\n",
        "\n",
        "the discount because it is a day old,\n",
        "\n",
        "\n",
        "and the total price.\n",
        "\n",
        "Each of these amounts should be displayed on its own line with an appropriate label. All of the values should be displayed using two decimal places, and the decimal points in all of the numbers should be aligned when reasonable values are entered by the user."
      ],
      "metadata": {
        "id": "RbX1jFfgsBQn"
      }
    },
    {
      "cell_type": "code",
      "source": [
        "# 34\n",
        "day_old_bread_loaves = input(\"How many day old loaves of bread are you buying? \")\n",
        "int_day_old_bread_loaves = int(day_old_bread_loaves)\n",
        "new_bread_cost = 3.49\n",
        "discount = 0.6\n",
        "new_total_bread_cost = int_day_old_bread_loaves * new_bread_cost\n",
        "discounted_amount = new_total_bread_cost * discount\n",
        "old_total_bread_cost = new_total_bread_cost - discounted_amount\n",
        "print(new_total_bread_cost)\n",
        "print(discounted_amount)\n",
        "print(old_total_bread_cost)\n",
        "# print(day_old_bread_loaves)\n",
        "# print(type(day_old_bread_loaves))\n",
        "# print(int_day_old_bread_loaves)\n",
        "# print(type(int_day_old_bread_loaves))\n",
        "\n",
        "print(\"Formatting\")\n",
        "print(f\"Total cost if bread was new:{new_total_bread_cost: .2f}\")\n",
        "print(f\"Total discounted amount:{discounted_amount: .2f}\")\n",
        "print(f\"Total cost, because bread is one day old:{old_total_bread_cost: .2f}\")"
      ],
      "metadata": {
        "colab": {
          "base_uri": "https://localhost:8080/"
        },
        "id": "1vf4cHrzsBsV",
        "outputId": "e6bf27b9-fecb-4e37-ce9f-3df4a9df4563"
      },
      "execution_count": 76,
      "outputs": [
        {
          "output_type": "stream",
          "name": "stdout",
          "text": [
            "How many day old loaves of bread are you buying? 5\n",
            "17.450000000000003\n",
            "10.47\n",
            "6.980000000000002\n",
            "Formatting\n",
            "Total cost if bread was new: 17.45\n",
            "Total discounted amount: 10.47\n",
            "Total cost, because bread is one day old: 6.98\n"
          ]
        }
      ]
    },
    {
      "cell_type": "markdown",
      "source": [
        "Exercise 35: Even or Odd?\n",
        "\n",
        "Write a program that reads an integer from the user.\n",
        "\n",
        "Then your program should\n",
        "display a message indicating whether the integer is even or odd."
      ],
      "metadata": {
        "id": "NtCeElIEvM94"
      }
    },
    {
      "cell_type": "code",
      "source": [
        "# 35\n",
        "number = input(\"Enter an integer: \")\n",
        "number_int = int(number)\n",
        "\n",
        "residuo = number_int % 2\n",
        "\n",
        "if residuo == 1:\n",
        "  print(\"Es impar\")\n",
        "else:\n",
        "  print(\"Es par\")"
      ],
      "metadata": {
        "colab": {
          "base_uri": "https://localhost:8080/"
        },
        "id": "1MxVDL2dvOEP",
        "outputId": "8a2958e5-ef31-4d9d-e7ba-04752256ad53"
      },
      "execution_count": 88,
      "outputs": [
        {
          "output_type": "stream",
          "name": "stdout",
          "text": [
            "Enter an integer: 7\n",
            "Es impar\n"
          ]
        }
      ]
    },
    {
      "cell_type": "code",
      "source": [
        "# Operadores de comparacion\n",
        "print(4 > 5)\n",
        "print(4 < 5)\n",
        "print(0 == 0) # Operador de igualdad\n",
        "print(4.3 >= 5)\n",
        "print(4.3 <= 5)\n",
        "print(4 != 5)"
      ],
      "metadata": {
        "colab": {
          "base_uri": "https://localhost:8080/"
        },
        "id": "ZsUvZEtwv4r7",
        "outputId": "66d31dec-94b1-4035-d24b-4dc5c752b9f3"
      },
      "execution_count": 82,
      "outputs": [
        {
          "output_type": "stream",
          "name": "stdout",
          "text": [
            "False\n",
            "True\n",
            "True\n",
            "False\n",
            "True\n",
            "True\n"
          ]
        }
      ]
    },
    {
      "cell_type": "markdown",
      "source": [
        "Exercise 36: Dog Years\n",
        "\n",
        "It is commonly said that one human year is equivalent to 7 dog years. However this simple conversion fails to recognize that dogs reach adulthood in approximately two years. As a result, some people believe that it is better to count each of the first two human years as 10.5 dog years, and then count each additional human year as 4 dog years.\n",
        "\n",
        "Write a program that implements the conversion from human years to dog years\n",
        "described in the previous paragraph. Ensure that your program works correctly for conversions of less than two human years and for conversions of two or more human years. Your program should display an appropriate error message if the user enters a negative number."
      ],
      "metadata": {
        "id": "U5y6C1MMw2-4"
      }
    },
    {
      "cell_type": "code",
      "source": [
        "# 36\n",
        "human_years = input(\"How many human years does the dog have? \")\n",
        "int_human_years = int(human_years)\n",
        "\n",
        "if int_human_years <= 0:\n",
        "  print(\"Enter a valid age\")\n",
        "elif int_human_years <= 2:\n",
        "  dog_years = int_human_years * 10.5\n",
        "  print(f\"The dog is {dog_years} old\")\n",
        "else:\n",
        "  less_important_years = int_human_years - 2\n",
        "  dog_years = 21 + (less_important_years * 4)\n",
        "  print(f\"The dog is {dog_years} old\")"
      ],
      "metadata": {
        "colab": {
          "base_uri": "https://localhost:8080/"
        },
        "id": "l0qpAuLow2d3",
        "outputId": "99ea65db-9208-41e3-e675-f4ca7d8de762"
      },
      "execution_count": 101,
      "outputs": [
        {
          "output_type": "stream",
          "name": "stdout",
          "text": [
            "How many human years does the dog have? 4\n",
            "The dog is 29 old\n"
          ]
        }
      ]
    },
    {
      "cell_type": "markdown",
      "source": [
        "Exercise 45: Date to Holiday Name\n",
        "\n",
        "Canada has three national holidays which fall on the same dates each year.\n",
        "\n",
        "Holiday  \n",
        "New Year's Day, Canada Day, Christmas Day  \n",
        "Date  \n",
        "January 1, July 1, December 25\n",
        "\n",
        "Write a program that reads a month and day from the user. If the month and day match one of the holidays listed previously then your program should display the holiday's name. Otherwise your program should indicate that the entered month and day do not correspond to a fixed-date holiday."
      ],
      "metadata": {
        "id": "ums8--ey04tn"
      }
    },
    {
      "cell_type": "code",
      "source": [
        "# 45\n",
        "# Condicionales\n",
        "# Diccionario\n",
        "\n",
        "month = input(\"Enter a month (Name) \")\n",
        "day = input(\"Enter a day (Number) \")\n",
        "date = f\"{month} {day}\"\n",
        "\n",
        "holiday_names = {\n",
        "    \"January 1\": \"New Year's Day\",\n",
        "    \"July 1\": \"Canada Day\",\n",
        "    \"December 25\": \"Christmas Day\"\n",
        "}\n",
        "\n",
        "if date in holiday_names.keys():\n",
        "  print(holiday_names[date])\n",
        "else:\n",
        "  print(\"The entered month and day do not correspond to a fixed-date holiday\")"
      ],
      "metadata": {
        "colab": {
          "base_uri": "https://localhost:8080/"
        },
        "id": "TjycOLtm07K_",
        "outputId": "8fd83787-60b7-4782-db67-ce18035f9a78"
      },
      "execution_count": 112,
      "outputs": [
        {
          "output_type": "stream",
          "name": "stdout",
          "text": [
            "Enter a month (Name) january\n",
            "Enter a day (Number) 1\n",
            "The entered month and day do not correspond to a fixed-date holiday\n"
          ]
        }
      ]
    },
    {
      "cell_type": "code",
      "source": [
        "# print(holiday_names[\"December 24\"]) # Error"
      ],
      "metadata": {
        "id": "jaQOSa272aEn"
      },
      "execution_count": 106,
      "outputs": []
    },
    {
      "cell_type": "code",
      "source": [
        "# Metodos de los strings\n",
        "# Son funciones que solo tienen los strings\n",
        "# funciones tales como print o input, pero que sirven para los strings\n",
        "\n",
        "string_test = \"Alejandro\"\n",
        "print(string_test)\n",
        "print(string_test.upper()) # metodo upper para mayusculas\n",
        "print(string_test.lower()) # metodo lower para minusculas\n",
        "\n",
        "string_test_2 = \"JANUARY\"\n",
        "print(string_test_2.title())\n",
        "\n",
        "string_test_3 = \"3\"\n",
        "print(string_test_3.isdigit())\n",
        "\n",
        "string_test_4 = \"5.4\"\n",
        "print(string_test_4.isdigit())"
      ],
      "metadata": {
        "colab": {
          "base_uri": "https://localhost:8080/"
        },
        "id": "-S9jhz-j3de8",
        "outputId": "cb4e2014-82e3-4eae-f398-c131e4716345"
      },
      "execution_count": 124,
      "outputs": [
        {
          "output_type": "stream",
          "name": "stdout",
          "text": [
            "Alejandro\n",
            "ALEJANDRO\n",
            "alejandro\n",
            "January\n",
            "True\n",
            "False\n"
          ]
        }
      ]
    },
    {
      "cell_type": "code",
      "source": [
        "string_test_5 = \"hola mi nombre es pablo\"\n",
        "print(string_test_5.capitalize())\n",
        "print(string_test_5.title())"
      ],
      "metadata": {
        "colab": {
          "base_uri": "https://localhost:8080/"
        },
        "id": "kTJyOc0S5DDN",
        "outputId": "d0181932-70d7-459c-ba04-2d9b513f18cf"
      },
      "execution_count": 125,
      "outputs": [
        {
          "output_type": "stream",
          "name": "stdout",
          "text": [
            "Hola mi nombre es pablo\n",
            "Hola Mi Nombre Es Pablo\n"
          ]
        }
      ]
    },
    {
      "cell_type": "code",
      "source": [
        "# append a una lista\n",
        "# list.append()\n",
        "# list.insert()\n",
        "\n",
        "# dict.keys()\n",
        "# dict.values()\n",
        "# dict.items()"
      ],
      "metadata": {
        "id": "uh-jZCEI5QBo"
      },
      "execution_count": null,
      "outputs": []
    }
  ]
}