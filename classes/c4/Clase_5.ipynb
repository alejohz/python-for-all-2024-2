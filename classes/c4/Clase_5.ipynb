{
  "nbformat": 4,
  "nbformat_minor": 0,
  "metadata": {
    "colab": {
      "provenance": []
    },
    "kernelspec": {
      "name": "python3",
      "display_name": "Python 3"
    },
    "language_info": {
      "name": "python"
    }
  },
  "cells": [
    {
      "cell_type": "markdown",
      "source": [
        "# Clase 5\n",
        "\n",
        "**Contenido**\n",
        "- Preguntas ejercicios anteriores (61, 79, 85, 86)\n",
        "- Ejercicio 62 - Convertir a función\n",
        "- Listas (Sort, Reverse)\n",
        "- Sets\n",
        "- Ejercicio 69 (Normal y Con funciones)\n",
        "- List comprehension (Comprensión de listas)\n",
        "- Ejercicio 75\n",
        "- Argumentos posicionales y nombrados y retorno.\n"
      ],
      "metadata": {
        "id": "ciWSQsXYiHki"
      }
    },
    {
      "cell_type": "markdown",
      "source": [
        "## Temas de estudio\n",
        "- Qué es streamlit?\n",
        "- Qué es unit testing?\n",
        "- Qué es PEP 8?\n",
        "- Qué es datetime?\n",
        "\n",
        "## Ejercicios\n",
        "- Ejercicios 63, **67**, 76, 77, 79, **84**, 110, 111, 113, 116, 120, 133, 139, 140, 142, **143**"
      ],
      "metadata": {
        "id": "s4ieKLv9i0RU"
      }
    },
    {
      "cell_type": "code",
      "source": [
        "def pay(condition, pay_message_1, pay_message_2):\n",
        "  if condition:\n",
        "    print(pay_message_1)\n",
        "  else:\n",
        "    print(pay_message_2)"
      ],
      "metadata": {
        "id": "0YMvrU5IalB7"
      },
      "execution_count": 2,
      "outputs": []
    },
    {
      "cell_type": "code",
      "source": [
        "from random import choice\n",
        "\n",
        "def roulette(option_range, reds = [1, 3, 5, 7, 9, 12, 14, 16, 18, 19, 21, 23, 25, 27, 30, 32, 34, 36]):\n",
        "  options = list(range(option_range)) + [\"00\"]\n",
        "  return choice(options)\n"
      ],
      "metadata": {
        "id": "aAMWoOeobN3d"
      },
      "execution_count": 3,
      "outputs": []
    },
    {
      "cell_type": "code",
      "source": [
        "# choice a mano\n",
        "from random import randint\n",
        "\n",
        "options = list(range(37)) + [\"00\"]\n",
        "option_choice = randint(0, 37)\n",
        "print(options[option_choice])"
      ],
      "metadata": {
        "colab": {
          "base_uri": "https://localhost:8080/"
        },
        "id": "OcxMQ9rebx7V",
        "outputId": "809edd2a-2f30-41fd-fc10-d5fabca621ad"
      },
      "execution_count": 4,
      "outputs": [
        {
          "output_type": "stream",
          "name": "stdout",
          "text": [
            "29\n"
          ]
        }
      ]
    },
    {
      "cell_type": "code",
      "execution_count": 5,
      "metadata": {
        "id": "nAhzCbibiE7U",
        "colab": {
          "base_uri": "https://localhost:8080/",
          "height": 251
        },
        "outputId": "14d164d0-e4f8-4796-c19f-ce60be608604"
      },
      "outputs": [
        {
          "output_type": "stream",
          "name": "stdout",
          "text": [
            "The spin resulted in 21...\n",
            "Pay 21\n"
          ]
        },
        {
          "output_type": "error",
          "ename": "NameError",
          "evalue": "name 'reds' is not defined",
          "traceback": [
            "\u001b[0;31m---------------------------------------------------------------------------\u001b[0m",
            "\u001b[0;31mNameError\u001b[0m                                 Traceback (most recent call last)",
            "\u001b[0;32m<ipython-input-5-445ac7502e05>\u001b[0m in \u001b[0;36m<cell line: 7>\u001b[0;34m()\u001b[0m\n\u001b[1;32m      9\u001b[0m \u001b[0;32melse\u001b[0m\u001b[0;34m:\u001b[0m\u001b[0;34m\u001b[0m\u001b[0;34m\u001b[0m\u001b[0m\n\u001b[1;32m     10\u001b[0m   \u001b[0mprint\u001b[0m\u001b[0;34m(\u001b[0m\u001b[0;34mf\"Pay {result}\"\u001b[0m\u001b[0;34m)\u001b[0m\u001b[0;34m\u001b[0m\u001b[0;34m\u001b[0m\u001b[0m\n\u001b[0;32m---> 11\u001b[0;31m   \u001b[0mpay\u001b[0m\u001b[0;34m(\u001b[0m\u001b[0mresult\u001b[0m \u001b[0;32min\u001b[0m \u001b[0mreds\u001b[0m\u001b[0;34m,\u001b[0m \u001b[0;34m\"Pay Red\"\u001b[0m\u001b[0;34m,\u001b[0m \u001b[0;34m\"Pay Black\"\u001b[0m\u001b[0;34m)\u001b[0m\u001b[0;34m\u001b[0m\u001b[0;34m\u001b[0m\u001b[0m\n\u001b[0m\u001b[1;32m     12\u001b[0m   \u001b[0mpay\u001b[0m\u001b[0;34m(\u001b[0m\u001b[0;34m(\u001b[0m\u001b[0mresult\u001b[0m \u001b[0;34m%\u001b[0m \u001b[0;36m2\u001b[0m\u001b[0;34m)\u001b[0m \u001b[0;34m==\u001b[0m \u001b[0;36m0\u001b[0m\u001b[0;34m,\u001b[0m \u001b[0;34m\"Pay Even\"\u001b[0m\u001b[0;34m,\u001b[0m \u001b[0;34m\"Pay Odd\"\u001b[0m\u001b[0;34m)\u001b[0m\u001b[0;34m\u001b[0m\u001b[0;34m\u001b[0m\u001b[0m\n\u001b[1;32m     13\u001b[0m   \u001b[0mpay\u001b[0m\u001b[0;34m(\u001b[0m\u001b[0mresult\u001b[0m \u001b[0;34m<=\u001b[0m \u001b[0;36m18\u001b[0m\u001b[0;34m,\u001b[0m \u001b[0;34m\"Pay 1 to 18\"\u001b[0m\u001b[0;34m,\u001b[0m \u001b[0;34m\"Pay 19 to 36\"\u001b[0m\u001b[0;34m)\u001b[0m\u001b[0;34m\u001b[0m\u001b[0;34m\u001b[0m\u001b[0m\n",
            "\u001b[0;31mNameError\u001b[0m: name 'reds' is not defined"
          ]
        }
      ],
      "source": [
        "# 62\n",
        "\n",
        "result = roulette(37)\n",
        "\n",
        "print(f\"The spin resulted in {result}...\")\n",
        "\n",
        "if result == 0 or result == '00':\n",
        "  print(f\"Pay {result}\")\n",
        "else:\n",
        "  print(f\"Pay {result}\")\n",
        "  pay(result in reds, \"Pay Red\", \"Pay Black\")\n",
        "  pay((result % 2) == 0, \"Pay Even\", \"Pay Odd\")\n",
        "  pay(result <= 18, \"Pay 1 to 18\", \"Pay 19 to 36\")\n"
      ]
    },
    {
      "cell_type": "code",
      "source": [
        "\"\"\"\n",
        "is_red = result in reds\n",
        "if is_red:\n",
        "  print(f\"Pay Red\")\n",
        "else:\n",
        "  print(f\"Pay Black\")\n",
        "\"\"\"\n",
        "\n",
        "# Las funciones reciben argumentos\n",
        "# Y devuelven un resultado (Retornan)\n",
        "\n",
        "# argumento posicional (positional argument)\n",
        "\n",
        "def pay_test(condition, pay_message_1, pay_message_2):\n",
        "  print(\"Esta es la condicion\", condition)\n",
        "  print(\"Esta es el mensaje 1\", pay_message_1)\n",
        "  print(\"Esta es el mensaje 2\", pay_message_2)"
      ],
      "metadata": {
        "id": "XQdOGjiyVHuP"
      },
      "execution_count": 6,
      "outputs": []
    },
    {
      "cell_type": "code",
      "source": [
        "pay_test(True, \"Hola Mundo\", \"Juan\")"
      ],
      "metadata": {
        "colab": {
          "base_uri": "https://localhost:8080/"
        },
        "id": "ZzD-pU0IV6Lr",
        "outputId": "89152169-55f2-4c71-8a9e-4398289338fb"
      },
      "execution_count": 7,
      "outputs": [
        {
          "output_type": "stream",
          "name": "stdout",
          "text": [
            "Esta es la condicion True\n",
            "Esta es el mensaje 1 Hola Mundo\n",
            "Esta es el mensaje 2 Juan\n"
          ]
        }
      ]
    },
    {
      "cell_type": "code",
      "source": [
        "pay_test(\"Hola Mundo\", True, \"Juan\")"
      ],
      "metadata": {
        "colab": {
          "base_uri": "https://localhost:8080/"
        },
        "id": "vLK1gVJsWJu0",
        "outputId": "ef649d40-ef87-4c9b-ec79-f543edc78c30"
      },
      "execution_count": 8,
      "outputs": [
        {
          "output_type": "stream",
          "name": "stdout",
          "text": [
            "Esta es la condicion Hola Mundo\n",
            "Esta es el mensaje 1 True\n",
            "Esta es el mensaje 2 Juan\n"
          ]
        }
      ]
    },
    {
      "cell_type": "code",
      "source": [
        "resultado = 12\n",
        "pay((resultado % 2) == 0, \"Pay Even\", \"Pay Odd\")"
      ],
      "metadata": {
        "colab": {
          "base_uri": "https://localhost:8080/"
        },
        "id": "vTnGnPd6W40S",
        "outputId": "472110f2-cbd1-40a3-a83f-752bd45161e2"
      },
      "execution_count": 9,
      "outputs": [
        {
          "output_type": "stream",
          "name": "stdout",
          "text": [
            "Pay Even\n"
          ]
        }
      ]
    },
    {
      "cell_type": "code",
      "source": [
        "# Argumentos nombrados (o default)\n",
        "def saludar(nombre = \"Luis\"):\n",
        "  print(f\"Hola {nombre}\")\n",
        "\n",
        "saludar()\n",
        "saludar(\"Juan\")\n",
        "saludar(nombre=\"Esteban\")"
      ],
      "metadata": {
        "colab": {
          "base_uri": "https://localhost:8080/"
        },
        "id": "G_7Alks6Xl1c",
        "outputId": "6de67f01-d721-4629-8bcd-ac310d77144c"
      },
      "execution_count": 10,
      "outputs": [
        {
          "output_type": "stream",
          "name": "stdout",
          "text": [
            "Hola Luis\n",
            "Hola Juan\n",
            "Hola Esteban\n"
          ]
        }
      ]
    },
    {
      "cell_type": "code",
      "source": [
        "# Particularidades con los argumentos\n",
        "# 1. No puede ir un argumento nombrado primero que un posicional\n",
        "# Si van los dos tipos, primero van los posicionales y luego los nombrados\n",
        "\n",
        "def saludar_con_apellido(apellido_1, apellido_2, nombre_1 = \"Juan\", nombre_2 = \"Esteban\"):\n",
        "  print(f\"Hola {nombre_1} {nombre_2} {apellido_1} {apellido_2}\")\n",
        "\n",
        "saludar_con_apellido(\"Juan\", \"1\")\n",
        "saludar_con_apellido(\"Juan\", \"Alvarez\")\n",
        "saludar_con_apellido(\"Juan\", \"1\", nombre_1 = \"Paez\")\n",
        "saludar_con_apellido(\"\", \"\")\n",
        "saludar_con_apellido(\"Luis\", \"1\", nombre_1=\"Henao\")\n",
        "# saludar_con_apellido() # Error"
      ],
      "metadata": {
        "colab": {
          "base_uri": "https://localhost:8080/"
        },
        "id": "WDUjhi9sYRPD",
        "outputId": "e3d339d9-cc71-4113-8c9a-cf49ba1cf352"
      },
      "execution_count": 11,
      "outputs": [
        {
          "output_type": "stream",
          "name": "stdout",
          "text": [
            "Hola Juan Esteban Juan 1\n",
            "Hola Juan Esteban Juan Alvarez\n",
            "Hola Paez Esteban Juan 1\n",
            "Hola Juan Esteban  \n",
            "Hola Henao Esteban Luis 1\n"
          ]
        }
      ]
    },
    {
      "cell_type": "code",
      "source": [
        "# los strings\n",
        "# Los strings particularmente tienen unas funciones asociadas a su tipo de dato\n",
        "# Yo con los strings puedo hacer .upper(), .lower(), .title()\n",
        "# .isdigit(), .capitalize()\n",
        "\n",
        "# Las listas tambien tienen unas funciones asociadas, que ya vimos\n",
        "# .insert(), .append()\n",
        "# .sort() # ordenar\n",
        "# .reverse() # invertir\n",
        "\n",
        "numbers = [1, 3, 5, 19, 21, 23, 25, 27, 30, 32, 34, 36, 7, 9, 12, 14, 16, 18]\n",
        "numbers.sort(reverse=True)\n",
        "print(numbers)"
      ],
      "metadata": {
        "colab": {
          "base_uri": "https://localhost:8080/"
        },
        "id": "AaGvUaX4cvT1",
        "outputId": "d527005c-8b2a-4df9-f149-c98299bd563e"
      },
      "execution_count": 12,
      "outputs": [
        {
          "output_type": "stream",
          "name": "stdout",
          "text": [
            "[36, 34, 32, 30, 27, 25, 23, 21, 19, 18, 16, 14, 12, 9, 7, 5, 3, 1]\n"
          ]
        }
      ]
    },
    {
      "cell_type": "code",
      "source": [
        "numbers = [1, 3, 5, 19, 21, 23, 25, 27, 30, 32, 34, 36, 7, 9, 12, 14, 16, 18]\n",
        "numbers.reverse()\n",
        "print(numbers)"
      ],
      "metadata": {
        "colab": {
          "base_uri": "https://localhost:8080/"
        },
        "id": "0dBBgrmEdsX4",
        "outputId": "c1bf02aa-c9f3-4aed-a76b-1886ee077bc4"
      },
      "execution_count": 13,
      "outputs": [
        {
          "output_type": "stream",
          "name": "stdout",
          "text": [
            "[18, 16, 14, 12, 9, 7, 36, 34, 32, 30, 27, 25, 23, 21, 19, 5, 3, 1]\n"
          ]
        }
      ]
    },
    {
      "cell_type": "code",
      "source": [
        "letters = [\"w\", \"a\", \"b\", \"z\"]\n",
        "letters.sort() # Strings get sorted alphabetically\n",
        "print(letters)"
      ],
      "metadata": {
        "colab": {
          "base_uri": "https://localhost:8080/"
        },
        "id": "ghb4ZilCeWEU",
        "outputId": "6851d33d-c235-459b-dff1-d1c3adabf379"
      },
      "execution_count": 14,
      "outputs": [
        {
          "output_type": "stream",
          "name": "stdout",
          "text": [
            "['a', 'b', 'w', 'z']\n"
          ]
        }
      ]
    },
    {
      "cell_type": "code",
      "source": [
        "# Contenedores o colecciones\n",
        "# diccionarios: llave y valor, están dentro de llaves\n",
        "# listas: flexibles\n",
        "# tuplas: inmutables\n",
        "# set: Los sets no tienen orden y no tienen repetidos, están dentro de llaves"
      ],
      "metadata": {
        "id": "vIF8XqcOeas4"
      },
      "execution_count": 15,
      "outputs": []
    },
    {
      "cell_type": "code",
      "source": [
        "numbers = [1, 1, 5, 19, 21, 23, 25, 25, 30, 30, 36, 36, 7, 7, 12, 14, 16, 18]\n",
        "print(numbers)\n",
        "print(type(numbers))\n",
        "numbers_set = set(numbers)\n",
        "print(numbers_set)\n",
        "print(type(numbers_set))"
      ],
      "metadata": {
        "colab": {
          "base_uri": "https://localhost:8080/"
        },
        "id": "ZFa83WeJfAWT",
        "outputId": "a905d220-beb3-40ee-d141-8e7c9f2c4736"
      },
      "execution_count": 16,
      "outputs": [
        {
          "output_type": "stream",
          "name": "stdout",
          "text": [
            "[1, 1, 5, 19, 21, 23, 25, 25, 30, 30, 36, 36, 7, 7, 12, 14, 16, 18]\n",
            "<class 'list'>\n",
            "{1, 36, 5, 7, 12, 14, 16, 18, 19, 21, 23, 25, 30}\n",
            "<class 'set'>\n"
          ]
        }
      ]
    },
    {
      "cell_type": "code",
      "source": [
        "print(numbers)\n",
        "print(set(numbers))\n",
        "print(list(set(numbers)))"
      ],
      "metadata": {
        "colab": {
          "base_uri": "https://localhost:8080/"
        },
        "id": "zw6m3nB2fEGs",
        "outputId": "8c32c2f3-211a-4c64-e526-e9472d928f94"
      },
      "execution_count": 17,
      "outputs": [
        {
          "output_type": "stream",
          "name": "stdout",
          "text": [
            "[1, 1, 5, 19, 21, 23, 25, 25, 30, 30, 36, 36, 7, 7, 12, 14, 16, 18]\n",
            "{1, 36, 5, 7, 12, 14, 16, 18, 19, 21, 23, 25, 30}\n",
            "[1, 36, 5, 7, 12, 14, 16, 18, 19, 21, 23, 25, 30]\n"
          ]
        }
      ]
    },
    {
      "cell_type": "markdown",
      "source": [
        "\n",
        "Exercise 69: Admission Price  \n",
        "A particular zoo determines the price of admission based on the age of the guest. Guests 2 years of age and less are admitted without charge. Children between 3 and 12 years of age cost \\$14.00. Seniors aged 65 years and over cost \\$18.00. Admission for all other guests is $23.00.  \n",
        "\n",
        "Create a program that begins by reading the ages of all of the guests in a group from the user, with one age entered on each line.  \n",
        "\n",
        "The user will enter a blank line to indicate that there are no more guests in the group.\n",
        "\n",
        "Then your program should display the admission cost for the group with an appropriate message. The cost should be displayed using two decimal places."
      ],
      "metadata": {
        "id": "pdPL0kuogPzQ"
      }
    },
    {
      "cell_type": "code",
      "source": [
        "# 69\n",
        "\n",
        "age = 0\n",
        "age_list = []\n",
        "\n",
        "while age != \"\":\n",
        "  age = input(\"Ingresa la edad del invitado \")\n",
        "  age_list.append(age)\n",
        "\n",
        "acumulador = 0\n",
        "for index in range(len(age_list) - 1):\n",
        "  int_number = int(age_list[index])\n",
        "  if int_number <= 2:\n",
        "    acumulador += 0.00\n",
        "  elif int_number >= 3 and int_number <= 12:\n",
        "    acumulador += 14.00\n",
        "  elif int_number >= 65:\n",
        "    acumulador += 18.00\n",
        "  else:\n",
        "    acumulador += 23.00\n",
        "\n",
        "print(f\"El costo total de entrada al zoologico es:${acumulador: .2f}\")"
      ],
      "metadata": {
        "colab": {
          "base_uri": "https://localhost:8080/"
        },
        "id": "dTzbP_wKfsf8",
        "outputId": "feb4ed6c-5666-468a-eac1-6b82fcd38fa5"
      },
      "execution_count": 18,
      "outputs": [
        {
          "output_type": "stream",
          "name": "stdout",
          "text": [
            "Ingresa la edad del invitado \n",
            "El costo total de entrada al zoologico es:$ 0.00\n"
          ]
        }
      ]
    },
    {
      "cell_type": "code",
      "source": [
        "age = 0\n",
        "age_list = []\n",
        "\n",
        "def guest_cost(age):\n",
        "  if age <= 2:\n",
        "    return 0\n",
        "  elif age >= 3 and age <= 12:\n",
        "    return 14\n",
        "  elif age >= 65:\n",
        "    return 18\n",
        "  else:\n",
        "    return 23\n",
        "\n",
        "while age != \"\":\n",
        "  age = input(\"Ingresa la edad del invitado \")\n",
        "  age_list.append(age)\n",
        "\n",
        "acumulador = 0\n",
        "for index in range(len(age_list) - 1):\n",
        "  acumulador += guest_cost(int(age_list[index]))\n",
        "\n",
        "print(f\"El costo total de entrada al zoologico es:${acumulador: .2f}\")"
      ],
      "metadata": {
        "colab": {
          "base_uri": "https://localhost:8080/",
          "height": 251
        },
        "id": "YzRQinkvq5HA",
        "outputId": "0a5cd74f-f0b0-4897-9a08-b5c71c3b29cb"
      },
      "execution_count": 21,
      "outputs": [
        {
          "name": "stdout",
          "output_type": "stream",
          "text": [
            "Ingresa la edad del invitado 1\n",
            "Ingresa la edad del invitado \n"
          ]
        },
        {
          "output_type": "error",
          "ename": "TypeError",
          "evalue": "guest_cost() takes 1 positional argument but 2 were given",
          "traceback": [
            "\u001b[0;31m---------------------------------------------------------------------------\u001b[0m",
            "\u001b[0;31mTypeError\u001b[0m                                 Traceback (most recent call last)",
            "\u001b[0;32m<ipython-input-21-3e626161b2e1>\u001b[0m in \u001b[0;36m<cell line: 19>\u001b[0;34m()\u001b[0m\n\u001b[1;32m     18\u001b[0m \u001b[0macumulador\u001b[0m \u001b[0;34m=\u001b[0m \u001b[0;36m0\u001b[0m\u001b[0;34m\u001b[0m\u001b[0;34m\u001b[0m\u001b[0m\n\u001b[1;32m     19\u001b[0m \u001b[0;32mfor\u001b[0m \u001b[0mindex\u001b[0m \u001b[0;32min\u001b[0m \u001b[0mrange\u001b[0m\u001b[0;34m(\u001b[0m\u001b[0mlen\u001b[0m\u001b[0;34m(\u001b[0m\u001b[0mage_list\u001b[0m\u001b[0;34m)\u001b[0m \u001b[0;34m-\u001b[0m \u001b[0;36m1\u001b[0m\u001b[0;34m)\u001b[0m\u001b[0;34m:\u001b[0m\u001b[0;34m\u001b[0m\u001b[0;34m\u001b[0m\u001b[0m\n\u001b[0;32m---> 20\u001b[0;31m   \u001b[0macumulador\u001b[0m \u001b[0;34m+=\u001b[0m \u001b[0mguest_cost\u001b[0m\u001b[0;34m(\u001b[0m\u001b[0mint\u001b[0m\u001b[0;34m(\u001b[0m\u001b[0mage_list\u001b[0m\u001b[0;34m[\u001b[0m\u001b[0mindex\u001b[0m\u001b[0;34m]\u001b[0m\u001b[0;34m)\u001b[0m\u001b[0;34m,\u001b[0m \u001b[0;36m1\u001b[0m\u001b[0;34m)\u001b[0m\u001b[0;34m\u001b[0m\u001b[0;34m\u001b[0m\u001b[0m\n\u001b[0m\u001b[1;32m     21\u001b[0m \u001b[0;34m\u001b[0m\u001b[0m\n\u001b[1;32m     22\u001b[0m \u001b[0mprint\u001b[0m\u001b[0;34m(\u001b[0m\u001b[0;34mf\"El costo total de entrada al zoologico es:${acumulador: .2f}\"\u001b[0m\u001b[0;34m)\u001b[0m\u001b[0;34m\u001b[0m\u001b[0;34m\u001b[0m\u001b[0m\n",
            "\u001b[0;31mTypeError\u001b[0m: guest_cost() takes 1 positional argument but 2 were given"
          ]
        }
      ]
    },
    {
      "cell_type": "code",
      "source": [
        "numbers = [1, 1, 5, 19, 21, 23, 25, 25, 30, 30, 36, 36, 7, 7, 12, 14, 16, 18]\n",
        "\n",
        "# en el for, yo puedo iterar sobre los elementos o los indices\n",
        "for number in numbers:\n",
        "  print(number)"
      ],
      "metadata": {
        "colab": {
          "base_uri": "https://localhost:8080/"
        },
        "id": "V5pB5eJniOsM",
        "outputId": "63122b9f-c963-4f53-8e15-49d0ef48100c"
      },
      "execution_count": 22,
      "outputs": [
        {
          "output_type": "stream",
          "name": "stdout",
          "text": [
            "1\n",
            "1\n",
            "5\n",
            "19\n",
            "21\n",
            "23\n",
            "25\n",
            "25\n",
            "30\n",
            "30\n",
            "36\n",
            "36\n",
            "7\n",
            "7\n",
            "12\n",
            "14\n",
            "16\n",
            "18\n"
          ]
        }
      ]
    },
    {
      "cell_type": "code",
      "source": [
        "numbers = [1, 1, 5, 19, 21, 23, 25, 25, 30, 30, 36, 36, 7, 7, 12, 14, 16, 18]\n",
        "\n",
        "# en el for, yo puedo iterar sobre los elementos o los indices\n",
        "for index in range(len(numbers) - 1):\n",
        "  print(numbers[index])"
      ],
      "metadata": {
        "colab": {
          "base_uri": "https://localhost:8080/"
        },
        "id": "PRyBTWAIidSy",
        "outputId": "83a951ba-3632-478a-fbcb-b0dd6f5f65da"
      },
      "execution_count": 23,
      "outputs": [
        {
          "output_type": "stream",
          "name": "stdout",
          "text": [
            "1\n",
            "1\n",
            "5\n",
            "19\n",
            "21\n",
            "23\n",
            "25\n",
            "25\n",
            "30\n",
            "30\n",
            "36\n",
            "36\n",
            "7\n",
            "7\n",
            "12\n",
            "14\n",
            "16\n"
          ]
        }
      ]
    },
    {
      "cell_type": "code",
      "source": [
        "# Comprension de listas\n",
        "# List comprehension\n",
        "# Se hace porque es mas rapido, mas eficiente, se lee mejor\n",
        "# Pero es mas complejo\n",
        "# Me permite iterar con un for sobre una lista de manera agil, por ejemplo para\n",
        "# remover elementos que no quiero\n",
        "# quitar duplicados\n",
        "# convertir los elementos\n",
        "# etc"
      ],
      "metadata": {
        "id": "ECEDGmFasi-p"
      },
      "execution_count": null,
      "outputs": []
    },
    {
      "cell_type": "code",
      "source": [
        "numbers = [1, 1, 5, 19, 21, 23, 25, 25, 30, 30, 36, 36, 7, 7, 12, 14, 16, 18]\n",
        "\n",
        "numbers_plus_one = []\n",
        "for number in numbers:\n",
        "  numbers_plus_one.append(number + 1)\n",
        "print(numbers_plus_one)\n",
        "\n",
        "# Traduccion a list comprehension\n",
        "\n",
        "numbers_plus_one = [number + 1 for number in numbers]\n",
        "print(numbers_plus_one)"
      ],
      "metadata": {
        "colab": {
          "base_uri": "https://localhost:8080/"
        },
        "id": "RHZ2vD_Cs4TL",
        "outputId": "61adeaee-4395-4bf4-ae1f-41b005cc64e1"
      },
      "execution_count": 27,
      "outputs": [
        {
          "output_type": "stream",
          "name": "stdout",
          "text": [
            "[2, 2, 6, 20, 22, 24, 26, 26, 31, 31, 37, 37, 8, 8, 13, 15, 17, 19]\n",
            "[1, 1, 5, 19, 21, 23, 25, 25, 30, 30, 36, 36, 7, 7, 12, 14, 16, 18]\n"
          ]
        }
      ]
    },
    {
      "cell_type": "code",
      "source": [
        "numbers = [1, 1, 5, 19, 21, 23, 25, 25, 30, 30, 36, 36, 7, 7, 12, 14, 16, 18]\n",
        "\n",
        "numbers_even = []\n",
        "for number in numbers:\n",
        "  if (number % 2) == 0:\n",
        "    numbers_even.append(f\"0{number}\")\n",
        "print(numbers_even)\n",
        "\n",
        "# Traduccion a list comprehension\n",
        "\n",
        "numbers_even = [\"0\" + str(number) for number in numbers if (number % 2) == 0]\n",
        "print(numbers_even)"
      ],
      "metadata": {
        "colab": {
          "base_uri": "https://localhost:8080/"
        },
        "id": "ZmE1nkl-tiay",
        "outputId": "189005f0-d7e8-412f-898f-ef7171fb95c7"
      },
      "execution_count": 32,
      "outputs": [
        {
          "output_type": "stream",
          "name": "stdout",
          "text": [
            "['030', '030', '036', '036', '012', '014', '016', '018']\n",
            "['030', '030', '036', '036', '012', '014', '016', '018']\n"
          ]
        }
      ]
    },
    {
      "cell_type": "markdown",
      "source": [
        "Exercise 75: Is a String a Palindrome?\n",
        "\n",
        "A string is a palindrome if it is identical forward and backward. For example “anna”, “civic”, “level” and “hannah” are all examples of palindromic words. Write a program that reads a string from the user and uses a loop to determine whether or not it is a palindrome. Display the result, including a meaningful output message."
      ],
      "metadata": {
        "id": "LBP4guf9u8dD"
      }
    },
    {
      "cell_type": "code",
      "source": [
        "# 75\n",
        "\n",
        "palabra = input(\"Ingresa la palabra: \") # solsticio\n",
        "\n",
        "list_palabra_1 = list(palabra) # [\"s\", \"o\", \"l\", \"s\", \"t\", \"i\", \"c\", \"i\", \"o\"]\n",
        "list_palabra_2 = list(palabra) # [\"s\", \"o\", \"l\", \"s\", \"t\", \"i\", \"c\", \"i\", \"o\"]\n",
        "\n",
        "list_palabra_2.reverse() # [\"o\", \"i\", \"c\", \"i\", \"t\", \"s\", \"l\", \"o\", \"s\"]\n",
        "es_palindroma = True # variable tipo bandera\n",
        "\n",
        "for index in range(len(list_palabra_1)):\n",
        "  if list_palabra_1[index] != list_palabra_2[index]:\n",
        "    es_palindroma = False\n",
        "    break # romper el ciclo\n",
        "\n",
        "if es_palindroma:\n",
        "  print(\"Si es palindroma\")\n",
        "else:\n",
        "  print(\"No es palindroma\")"
      ],
      "metadata": {
        "colab": {
          "base_uri": "https://localhost:8080/"
        },
        "id": "ZpZURpDlu1B4",
        "outputId": "b3b52964-739f-4af1-e9eb-05488698ee25"
      },
      "execution_count": 67,
      "outputs": [
        {
          "output_type": "stream",
          "name": "stdout",
          "text": [
            "Ingresa la palabra: hannah\n",
            "Si es palindroma\n"
          ]
        }
      ]
    },
    {
      "cell_type": "code",
      "source": [
        "print(index)"
      ],
      "metadata": {
        "colab": {
          "base_uri": "https://localhost:8080/"
        },
        "id": "IZmX0NTg2SQk",
        "outputId": "cc8de554-579e-455d-ab14-b428f595bee6"
      },
      "execution_count": 58,
      "outputs": [
        {
          "output_type": "stream",
          "name": "stdout",
          "text": [
            "5\n"
          ]
        }
      ]
    },
    {
      "cell_type": "code",
      "source": [
        "for index in [\"s\", \"o\", \"l\"]:\n",
        "  print(index)"
      ],
      "metadata": {
        "colab": {
          "base_uri": "https://localhost:8080/"
        },
        "id": "_DaztEcz2rRY",
        "outputId": "e33a5057-4d21-4513-9b12-42f9d1e0895d"
      },
      "execution_count": 62,
      "outputs": [
        {
          "output_type": "stream",
          "name": "stdout",
          "text": [
            "s\n",
            "o\n",
            "l\n"
          ]
        }
      ]
    },
    {
      "cell_type": "code",
      "source": [
        "print(index)"
      ],
      "metadata": {
        "colab": {
          "base_uri": "https://localhost:8080/"
        },
        "id": "XeROfxQR3MwS",
        "outputId": "d20d0c30-ec87-4ef1-d1a7-3e6498969277"
      },
      "execution_count": 63,
      "outputs": [
        {
          "output_type": "stream",
          "name": "stdout",
          "text": [
            "l\n"
          ]
        }
      ]
    },
    {
      "cell_type": "code",
      "source": [
        "palabra = input(\"Ingresa la palabra: \") # solsticio\n",
        "\n",
        "list_palabra_1 = list(palabra) # [\"s\", \"o\", \"l\", \"s\", \"t\", \"i\", \"c\", \"i\", \"o\"]\n",
        "list_palabra_2 = list(palabra) # [\"s\", \"o\", \"l\", \"s\", \"t\", \"i\", \"c\", \"i\", \"o\"]\n",
        "\n",
        "list_palabra_2.reverse() # [\"o\", \"i\", \"c\", \"i\", \"t\", \"s\", \"l\", \"o\", \"s\"]\n",
        "if list_palabra_1 == list_palabra_2:\n",
        "  print(\"Es palindroma\")\n",
        "else:\n",
        "  print(\"No es palindroma\")"
      ],
      "metadata": {
        "colab": {
          "base_uri": "https://localhost:8080/"
        },
        "id": "IEsPYsW-48o9",
        "outputId": "992ecfcc-bc6f-4dd5-acbd-ed80f22c0ca5"
      },
      "execution_count": 68,
      "outputs": [
        {
          "output_type": "stream",
          "name": "stdout",
          "text": [
            "Ingresa la palabra: hannah\n",
            "Es palindroma\n"
          ]
        }
      ]
    },
    {
      "cell_type": "code",
      "source": [
        "# funciones\n",
        "\n",
        "# Modularizar\n",
        "def iter_over_word(word_1, word_2):\n",
        "  palindroma = True\n",
        "  for index in range(len(word_1)):\n",
        "    if word_1[index] != word_2[index]:\n",
        "      palindroma = False\n",
        "      break\n",
        "  return palindroma\n",
        "\n",
        "def es_palindroma(word):\n",
        "  \"\"\"\n",
        "  :param word: Palabra a calcular si es palindroma o no\n",
        "  \"\"\"\n",
        "  list_palabra_1 = list(word)\n",
        "  list_palabra_2 = list(word)\n",
        "  list_palabra_2.reverse()\n",
        "  palindroma = iter_over_word(list_palabra_1, list_palabra_2)\n",
        "  if palindroma:\n",
        "    print(\"Si es palindroma\")\n",
        "  else:\n",
        "    print(\"No es palindroma\")\n"
      ],
      "metadata": {
        "id": "Gtd_l3ZZ5YQ4"
      },
      "execution_count": 71,
      "outputs": []
    },
    {
      "cell_type": "code",
      "source": [
        "palabra = input(\"Ingresa la palabra: \") # solsticio\n",
        "es_palindroma(palabra)"
      ],
      "metadata": {
        "colab": {
          "base_uri": "https://localhost:8080/"
        },
        "id": "6Nz3z6lk5vyC",
        "outputId": "81a91464-82b6-4942-dc5d-e2e0da01bcc2"
      },
      "execution_count": 73,
      "outputs": [
        {
          "output_type": "stream",
          "name": "stdout",
          "text": [
            "Ingresa la palabra: sol\n",
            "No es palindroma\n"
          ]
        }
      ]
    }
  ]
}