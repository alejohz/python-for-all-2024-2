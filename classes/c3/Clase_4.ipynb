{
  "nbformat": 4,
  "nbformat_minor": 0,
  "metadata": {
    "colab": {
      "provenance": []
    },
    "kernelspec": {
      "name": "python3",
      "display_name": "Python 3"
    },
    "language_info": {
      "name": "python"
    }
  },
  "cells": [
    {
      "cell_type": "markdown",
      "source": [
        "# Clase 4\n",
        "\n",
        "**Contenido**\n",
        "- Preguntas ejercicios anteriores (38, 46, 48, 50)\n",
        "- Ciclos (For, While), sleep\n",
        "- Ejercicios (45)\n",
        "- Listas (Sort y Sorted)\n",
        "- Ejercicios (114, 115)\n",
        "- Que son funciones?\n",
        "  - Funciones y Métodos\n",
        "- Ejercicio 62 (Normal y Con funciones)\n",
        "- Ejercicio 69 (Normal y Con funciones)\n",
        "- List comprehension (Comprensión de listas)"
      ],
      "metadata": {
        "id": "i1QFksQHMnnF"
      }
    },
    {
      "cell_type": "markdown",
      "source": [
        "## Temas de estudio\n",
        "- Qué es huggingface?\n",
        "- Qué es dash?\n",
        "- Qué es SCRUM?\n",
        "\n",
        "## Ejercicios\n",
        "- Ejercicio 61\n",
        "- Ejercicio 79 (Normal y con función)\n",
        "- Ejercicio 85 (Normal y con función)\n",
        "- Ejercicio 86 (Normal y con función)"
      ],
      "metadata": {
        "id": "Kf4KTD1YM_eB"
      }
    },
    {
      "cell_type": "code",
      "execution_count": 1,
      "metadata": {
        "id": "21_QIKd6LYX2",
        "colab": {
          "base_uri": "https://localhost:8080/"
        },
        "outputId": "c5821629-fd68-4cc3-b274-d4cdc98e64aa"
      },
      "outputs": [
        {
          "output_type": "stream",
          "name": "stdout",
          "text": [
            "1\n"
          ]
        }
      ],
      "source": [
        "# Listas\n",
        "numeros = [1, 2, 3, 4, 5, 6, 7, 8, 9]\n",
        "print(numeros[0])"
      ]
    },
    {
      "cell_type": "code",
      "source": [
        "print(numeros[1])"
      ],
      "metadata": {
        "colab": {
          "base_uri": "https://localhost:8080/"
        },
        "id": "g-yIWukAlwYF",
        "outputId": "3376db3d-a879-4864-edc7-e52ff1291d80"
      },
      "execution_count": 2,
      "outputs": [
        {
          "output_type": "stream",
          "name": "stdout",
          "text": [
            "2\n"
          ]
        }
      ]
    },
    {
      "cell_type": "code",
      "source": [
        "# Slice - Pedazo\n",
        "# Acceder o slices de una lista, se hace con dos puntos\n",
        "print(numeros[0:4])"
      ],
      "metadata": {
        "colab": {
          "base_uri": "https://localhost:8080/"
        },
        "id": "xiMen42nlxok",
        "outputId": "270e5d0b-5dbc-4101-cd1a-041a5c1a6b1c"
      },
      "execution_count": 3,
      "outputs": [
        {
          "output_type": "stream",
          "name": "stdout",
          "text": [
            "[1, 2, 3, 4]\n"
          ]
        }
      ]
    },
    {
      "cell_type": "code",
      "source": [
        "print(numeros[0], numeros[4])"
      ],
      "metadata": {
        "colab": {
          "base_uri": "https://localhost:8080/"
        },
        "id": "7QxGJ8F5l3kF",
        "outputId": "9046cd97-4f31-4b93-f129-ac9cee3d75d0"
      },
      "execution_count": 4,
      "outputs": [
        {
          "output_type": "stream",
          "name": "stdout",
          "text": [
            "1 5\n"
          ]
        }
      ]
    },
    {
      "cell_type": "code",
      "source": [
        "print(numeros[:4]) # Cuando no pongo nada, el asume que es desde el primero\n",
        "# Cuando no pongo nada al final, asume que es hasta el ultimo"
      ],
      "metadata": {
        "colab": {
          "base_uri": "https://localhost:8080/"
        },
        "id": "VFA67MHJl8m8",
        "outputId": "da854479-abcf-4765-feb6-8f0b39ee45dd"
      },
      "execution_count": 5,
      "outputs": [
        {
          "output_type": "stream",
          "name": "stdout",
          "text": [
            "[1, 2, 3, 4]\n"
          ]
        }
      ]
    },
    {
      "cell_type": "code",
      "source": [
        "print(numeros[3:])"
      ],
      "metadata": {
        "colab": {
          "base_uri": "https://localhost:8080/"
        },
        "id": "GA04sy6tmIRd",
        "outputId": "e0b2a432-1c06-4acd-856f-58783a57cf13"
      },
      "execution_count": 6,
      "outputs": [
        {
          "output_type": "stream",
          "name": "stdout",
          "text": [
            "[4, 5, 6, 7, 8, 9]\n"
          ]
        }
      ]
    },
    {
      "cell_type": "code",
      "source": [
        "print(numeros[:])"
      ],
      "metadata": {
        "colab": {
          "base_uri": "https://localhost:8080/"
        },
        "id": "lf2qja2KmK67",
        "outputId": "033516d1-c36e-4454-b512-aa8c72badf39"
      },
      "execution_count": 7,
      "outputs": [
        {
          "output_type": "stream",
          "name": "stdout",
          "text": [
            "[1, 2, 3, 4, 5, 6, 7, 8, 9]\n"
          ]
        }
      ]
    },
    {
      "cell_type": "code",
      "source": [
        "digits = \"3141\"\n",
        "list_digits = list(digits)\n",
        "print(list_digits)"
      ],
      "metadata": {
        "colab": {
          "base_uri": "https://localhost:8080/"
        },
        "id": "AGd20UqjmggX",
        "outputId": "8e0b8725-2c48-4b38-f2b8-9c2d2b57ed97"
      },
      "execution_count": 8,
      "outputs": [
        {
          "output_type": "stream",
          "name": "stdout",
          "text": [
            "['3', '1', '4', '1']\n"
          ]
        }
      ]
    },
    {
      "cell_type": "code",
      "source": [
        "first = list_digits[0]\n",
        "second = list_digits[1]\n",
        "third = list_digits[2]\n",
        "fourth = list_digits[3]\n",
        "print(first, second)"
      ],
      "metadata": {
        "colab": {
          "base_uri": "https://localhost:8080/"
        },
        "id": "4U9egIOhmmC7",
        "outputId": "41cb312a-a61f-470c-d424-8527e2e0a3b0"
      },
      "execution_count": 9,
      "outputs": [
        {
          "output_type": "stream",
          "name": "stdout",
          "text": [
            "3 1\n"
          ]
        }
      ]
    },
    {
      "cell_type": "code",
      "source": [
        "# Ciclos\n",
        "# Hay dos tipos de ciclos\n",
        "# 1. El que ya se cuando va a terminar\n",
        "# 2. El que termina solo cuando una condicion se cumple (Peligro)\n",
        "# si la condicion nunca se cumple, el ciclo sigue iterando indefinidamente\n",
        "# Cuando estamos iterando, normalmente usamos dos tipos de variables que nos ayudan\n",
        "# contador y acumulador\n",
        "\n",
        "propiedades = [1, 2, 3, 4]\n",
        "digits = \"3\"\n",
        "list_digits = list(digits)\n",
        "# 1 tipo de ciclo\n",
        "# El 1 tipo de ciclo se llama FOR\n",
        "\n",
        "contador = 0\n",
        "acumulador = 0\n",
        "for numero in propiedades: # numero = 3\n",
        "  contador = contador + 1 # contador = 3\n",
        "  print(f\"Iteración {contador}\") # iteracion 3\n",
        "  acumulador = acumulador + int(numero) # acumulador = 6\n",
        "  print(\"Actual numero del iterador: \", numero) # 3\n",
        "  print(\"Actual numero del acumulador: \", acumulador) # 6\n",
        "  print(\"Fin de la iteración\")\n",
        "print(\"Fin del ciclo\")"
      ],
      "metadata": {
        "colab": {
          "base_uri": "https://localhost:8080/"
        },
        "id": "PpkzWkmOmvVy",
        "outputId": "5fb0f451-2d82-4b1a-819b-ebf6bb9d038c"
      },
      "execution_count": 23,
      "outputs": [
        {
          "output_type": "stream",
          "name": "stdout",
          "text": [
            "Iteración 1\n",
            "Actual numero del iterador:  1\n",
            "Actual numero del acumulador:  1\n",
            "Fin de la iteración\n",
            "Iteración 2\n",
            "Actual numero del iterador:  2\n",
            "Actual numero del acumulador:  3\n",
            "Fin de la iteración\n",
            "Iteración 3\n",
            "Actual numero del iterador:  3\n",
            "Actual numero del acumulador:  6\n",
            "Fin de la iteración\n",
            "Iteración 4\n",
            "Actual numero del iterador:  4\n",
            "Actual numero del acumulador:  10\n",
            "Fin de la iteración\n",
            "Fin del ciclo\n"
          ]
        }
      ]
    },
    {
      "cell_type": "code",
      "source": [
        "propiedades = [34, 2, 67, 100]\n",
        "propiedades_con_cero = []\n",
        "\n",
        "contador = 0\n",
        "for propiedad in propiedades:\n",
        "  contador = contador + 1\n",
        "  print(f\"Iteración {contador}\")\n",
        "  print(\"Actual propiedad del iterador: \", propiedad)\n",
        "  propiedad_con_cero = \"0\" + str(propiedad)\n",
        "  propiedades_con_cero.append(propiedad_con_cero)\n",
        "  print(propiedades_con_cero)\n",
        "  print(propiedad_con_cero)\n",
        "  print(\"Fin de la iteración\")\n",
        "print(\"Fin del ciclo\")"
      ],
      "metadata": {
        "colab": {
          "base_uri": "https://localhost:8080/"
        },
        "id": "ehWwTn_Ds-6O",
        "outputId": "f89c9d93-cc04-4ace-f4b2-6be530384cf0"
      },
      "execution_count": 31,
      "outputs": [
        {
          "output_type": "stream",
          "name": "stdout",
          "text": [
            "Iteración 1\n",
            "Actual propiedad del iterador:  34\n",
            "['034']\n",
            "034\n",
            "Fin de la iteración\n",
            "Iteración 2\n",
            "Actual propiedad del iterador:  2\n",
            "['034', '02']\n",
            "02\n",
            "Fin de la iteración\n",
            "Iteración 3\n",
            "Actual propiedad del iterador:  67\n",
            "['034', '02', '067']\n",
            "067\n",
            "Fin de la iteración\n",
            "Iteración 4\n",
            "Actual propiedad del iterador:  100\n",
            "['034', '02', '067', '0100']\n",
            "0100\n",
            "Fin de la iteración\n",
            "Fin del ciclo\n"
          ]
        }
      ]
    },
    {
      "cell_type": "code",
      "source": [
        "print(propiedades_con_cero)"
      ],
      "metadata": {
        "colab": {
          "base_uri": "https://localhost:8080/"
        },
        "id": "0ghNg9a6tvLa",
        "outputId": "048f5e55-be4b-43d4-9bab-ec0e94a1a260"
      },
      "execution_count": 30,
      "outputs": [
        {
          "output_type": "stream",
          "name": "stdout",
          "text": [
            "['034', '02', '067', '0100']\n"
          ]
        }
      ]
    },
    {
      "cell_type": "code",
      "source": [
        "polizas = [34, 2, 67, 100]\n",
        "polizas_con_cero = []\n",
        "print(polizas_con_cero)\n",
        "\n",
        "for poliza in polizas:\n",
        "  poliza_con_cero = \"0\" + str(poliza)\n",
        "  polizas_con_cero.append(poliza_con_cero)\n",
        "\n",
        "print(polizas_con_cero)"
      ],
      "metadata": {
        "colab": {
          "base_uri": "https://localhost:8080/"
        },
        "id": "MI5dgO0ouoP_",
        "outputId": "6ccd545e-0426-4ae8-8efa-037187a3cb2b"
      },
      "execution_count": 35,
      "outputs": [
        {
          "output_type": "stream",
          "name": "stdout",
          "text": [
            "[]\n",
            "['034', '02', '067', '0100']\n"
          ]
        }
      ]
    },
    {
      "cell_type": "code",
      "source": [
        "# 2. tipo de ciclo\n",
        "# Itera hasta que una condicion se cumpla\n",
        "\n",
        "edades = [22, 18, 35, 40, 9, 65, 20]\n",
        "\n",
        "contador = 0\n",
        "while edades[contador] > 15:\n",
        "  print(f\"Iteración {contador + 1}\")\n",
        "  print(edades[contador])\n",
        "  contador = contador + 1\n",
        "\n",
        "print(\"Ya se acabo el ciclo\")"
      ],
      "metadata": {
        "colab": {
          "base_uri": "https://localhost:8080/"
        },
        "id": "x_S4Dvx1vFQ-",
        "outputId": "9c94d285-a68d-48e5-f593-d79aae3d9cc8"
      },
      "execution_count": 44,
      "outputs": [
        {
          "output_type": "stream",
          "name": "stdout",
          "text": [
            "Iteración 1\n",
            "22\n",
            "Iteración 2\n",
            "18\n",
            "Iteración 3\n",
            "35\n",
            "Iteración 4\n",
            "40\n",
            "Ya se acabo el ciclo\n"
          ]
        }
      ]
    },
    {
      "cell_type": "markdown",
      "source": [
        "\n",
        "**Exercise 114: Negatives, Zeros and Positives**\n",
        "\n",
        "Create a program that reads integers from the user until a blank line is entered.\n",
        "\n",
        "Once all of the integers have been read your program should display all of the negative numbers, followed by all of the zeros, followed by all of the positive numbers.\n",
        "\n",
        "Within each group the numbers should be displayed in the same order that they were entered by the user.\n",
        "\n",
        "For example, if the user enters the values 3, -4, 1, 0, -1, 0, and -2 then your program should output the values -4, -1, -2, 0, 0, 3, and 1.\n",
        "\n",
        "Your program should display each value on its own line.\n"
      ],
      "metadata": {
        "id": "Z6RHTEG0z3jF"
      }
    },
    {
      "cell_type": "code",
      "source": [
        "# 114\n",
        "\n",
        "numbers_entered = []\n",
        "number = int(input(\"Enter an  integer: \"))\n",
        "\n",
        "# number = \"\"\n",
        "# number != \" \" -> True\n",
        "# number != \"\" -> False\n",
        "# True and False -> False\n",
        "\n",
        "while (number != \" \" and number != \"\"):\n",
        "  if number != \"\" and number != \" \":\n",
        "    int_number = int(number)\n",
        "  numbers_entered.append(int_number)\n",
        "  number = input(\"Enter an integer: \")\n",
        "\n",
        "positives = []\n",
        "zeros = []\n",
        "negatives = []\n",
        "\n",
        "for number_entered in numbers_entered:\n",
        "  if number_entered < 0:\n",
        "    negatives.append(number_entered)\n",
        "  elif number_entered == 0:\n",
        "    zeros.append(number_entered)\n",
        "  else:\n",
        "    positives.append(number_entered)\n",
        "\n",
        "print(negatives)\n",
        "print(zeros)\n",
        "print(positives)\n"
      ],
      "metadata": {
        "colab": {
          "base_uri": "https://localhost:8080/"
        },
        "id": "Mod6EneBzT4P",
        "outputId": "9a02e5f5-2c25-4222-f98e-4942232c436f"
      },
      "execution_count": 66,
      "outputs": [
        {
          "output_type": "stream",
          "name": "stdout",
          "text": [
            "Enter an  integer: 3\n",
            "Enter an integer: -4\n",
            "Enter an integer: 1\n",
            "Enter an integer: 0\n",
            "Enter an integer: -1\n",
            "Enter an integer: 0\n",
            "Enter an integer: -2\n",
            "Enter an integer: \n",
            "[-4, -1, -2]\n",
            "[0, 0]\n",
            "[3, 1]\n"
          ]
        }
      ]
    },
    {
      "cell_type": "code",
      "source": [
        "# Ejercicio 60\n",
        "# Ejercicio matematico\n",
        "# floor es una funcion de redondeo hacia abajo\n",
        "# ceil es una funcion de redondeo hacia arriba\n",
        "from math import floor\n",
        "\n",
        "days_of_the_week = {\n",
        "    0: \"Sunday\",\n",
        "    1: \"Monday\",\n",
        "    2: \"Tuesday\",\n",
        "    3: \"Wednesday\",\n",
        "    4: \"Jueves\",\n",
        "    5: \"Friday\",\n",
        "    6: \"Saturday\"\n",
        "  }\n",
        "year = int(input(\"Enter a year: \"))\n",
        "day_of_the_week = (\n",
        "    year +\n",
        "    floor((year - 1) / 4) -\n",
        "    floor((year - 1) / 100) +\n",
        "    floor((year - 1) / 400)\n",
        "    ) % 7\n",
        "print(f\"January first on year {year} was a {days_of_the_week[day_of_the_week]}\")"
      ],
      "metadata": {
        "colab": {
          "base_uri": "https://localhost:8080/"
        },
        "id": "n9PxOUan2rIv",
        "outputId": "bd06cc9b-44bc-43b7-c448-54521d89811f"
      },
      "execution_count": 58,
      "outputs": [
        {
          "output_type": "stream",
          "name": "stdout",
          "text": [
            "Enter a year: 1984\n",
            "January first on year 1984 was a Sunday\n"
          ]
        }
      ]
    },
    {
      "cell_type": "code",
      "source": [
        "# Que son funciones\n",
        "# Las UDF\n",
        "# USER DEFINED FUNCTIONS\n",
        "# Son pedazos de codigo que yo puedo reutilizar mas adelante\n",
        "# Ya conocemos algunas funciones, estás son built in\n",
        "# print, input, type, int, float\n",
        "# Las funciones me ahorran mucho codigo y tiempo\n",
        "# Normalmente, siempre intento usar funciones para codigo repetitivo\n",
        "# Un codigo limpio, es un codigo que no repite codigo"
      ],
      "metadata": {
        "id": "97lMp3zP2vJL"
      },
      "execution_count": null,
      "outputs": []
    },
    {
      "cell_type": "code",
      "source": [
        "numero_2 = \"3242\"\n",
        "contador = 0\n",
        "acumulador = 0\n",
        "for numero in numero_2: # numero = 3\n",
        "  contador = contador + 1 # contador = 3\n",
        "  print(f\"Iteración {contador}\") # iteracion 3\n",
        "  acumulador = acumulador + int(numero) # acumulador = 6\n",
        "  print(\"Actual numero del iterador: \", numero) # 3\n",
        "  print(\"Actual numero del acumulador: \", acumulador) # 6\n",
        "  print(\"Fin de la iteración\")\n",
        "print(\"Fin del ciclo\")"
      ],
      "metadata": {
        "colab": {
          "base_uri": "https://localhost:8080/"
        },
        "id": "jjOA-wgFAj93",
        "outputId": "712dbc9e-5877-481c-dbed-53fc9c52a00b"
      },
      "execution_count": 67,
      "outputs": [
        {
          "output_type": "stream",
          "name": "stdout",
          "text": [
            "Iteración 1\n",
            "Actual numero del iterador:  3\n",
            "Actual numero del acumulador:  3\n",
            "Fin de la iteración\n",
            "Iteración 2\n",
            "Actual numero del iterador:  2\n",
            "Actual numero del acumulador:  5\n",
            "Fin de la iteración\n",
            "Iteración 3\n",
            "Actual numero del iterador:  4\n",
            "Actual numero del acumulador:  9\n",
            "Fin de la iteración\n",
            "Iteración 4\n",
            "Actual numero del iterador:  2\n",
            "Actual numero del acumulador:  11\n",
            "Fin de la iteración\n",
            "Fin del ciclo\n"
          ]
        }
      ]
    },
    {
      "cell_type": "code",
      "source": [
        "numero_3 = \"3343\"\n",
        "\n",
        "# Las funciones se DEFINEN\n",
        "# por eso se usa la palabra DEF\n",
        "# Las funciones tienen ARGUMENTOS\n",
        "# Es decir, cosas que reciben, y usan O transforman dentro de la funcion\n",
        "# Las funciones DEVUELVEN cosas\n",
        "# por eso se usa la palabra RETURN\n",
        "\n",
        "def sumar_digitos_de_entero(numero_a_sumar):\n",
        "  list_number = list(numero_a_sumar)\n",
        "  acumulador = 0\n",
        "  for n in list_number:\n",
        "    # acumulador = acumulador + int(n)\n",
        "    acumulador += int(n) # operador acumulacion tambien existe -= o /= o *=\n",
        "\n",
        "  return acumulador\n",
        "\n",
        "print(sumar_digitos_de_entero(\"3343\"))\n",
        "print(sumar_digitos_de_entero(\"3141\"))\n",
        "print(sumar_digitos_de_entero(\"3242\"))"
      ],
      "metadata": {
        "colab": {
          "base_uri": "https://localhost:8080/"
        },
        "id": "Z5SR8aU4A3T8",
        "outputId": "61aa0f8d-a49b-40f9-d65c-4b42edc1b9ea"
      },
      "execution_count": 75,
      "outputs": [
        {
          "output_type": "stream",
          "name": "stdout",
          "text": [
            "13\n",
            "9\n",
            "11\n"
          ]
        }
      ]
    },
    {
      "cell_type": "code",
      "source": [
        "def saludar(nombre):\n",
        "  \"\"\"\n",
        "  Esta funcion tiene un argumento que se llama nombre\n",
        "  y devuelve una string saludando a nombre\n",
        "  Args:\n",
        "    nombre:\n",
        "\n",
        "  Returns: Saludo\n",
        "  \"\"\"\n",
        "  return f\"Hola {nombre}\""
      ],
      "metadata": {
        "id": "KDYOcTAdBUjL"
      },
      "execution_count": 71,
      "outputs": []
    },
    {
      "cell_type": "code",
      "source": [
        "nombre = input(\"Escribe tu nombre\")\n",
        "print(saludar(nombre))"
      ],
      "metadata": {
        "colab": {
          "base_uri": "https://localhost:8080/"
        },
        "id": "Dr2JvBwoBXrN",
        "outputId": "bacba217-d7de-4098-abd2-9598b0515bb1"
      },
      "execution_count": 74,
      "outputs": [
        {
          "output_type": "stream",
          "name": "stdout",
          "text": [
            "Escribe tu nombretatiana\n",
            "Hola tatiana\n"
          ]
        }
      ]
    },
    {
      "cell_type": "code",
      "source": [
        "def sumar_digitos_de_entero(numero_a_sumar):\n",
        "  list_number = list(numero_a_sumar)\n",
        "  f_digit = list_number[0]\n",
        "  s_digit = list_number[1]\n",
        "  t_digit = list_number[2]\n",
        "  fth_digit = list_number[3]\n",
        "\n",
        "  return int(f_digit) + int(s_digit) + int(t_digit) + int(fth_digit)\n",
        "\n",
        "print(sumar_digitos_de_entero(\"3343\"))\n",
        "print(sumar_digitos_de_entero(\"3141\"))\n",
        "print(sumar_digitos_de_entero(\"3242\"))"
      ],
      "metadata": {
        "colab": {
          "base_uri": "https://localhost:8080/"
        },
        "id": "pBTYvA7eDKL7",
        "outputId": "4c361731-ed7f-43b6-f439-69356f679855"
      },
      "execution_count": 78,
      "outputs": [
        {
          "output_type": "stream",
          "name": "stdout",
          "text": [
            "13\n",
            "9\n",
            "11\n"
          ]
        }
      ]
    },
    {
      "cell_type": "markdown",
      "source": [
        "Exercise 62: Roulette Payouts\n",
        "\n",
        "A roulette wheel has 38 spaces on it.\n",
        "\n",
        "Of these spaces, 18 are black, 18 are red, and two are green.\n",
        "\n",
        "The green spaces are numbered 0 and 00.\n",
        "\n",
        "The red spaces are numbered 1, 3, 5, 7, 9, 12, 14, 16, 18, 19, 21, 23, 25, 27, 30 32, 34 and 36.\n",
        "\n",
        "The remaining integers between 1 and 36 are used to number the black spaces.\n",
        "\n",
        "\n",
        "Many different bets can be placed in roulette. We will only consider the following subset of them in this exercise:  \n",
        "• Single number (1 to 36, 0, or 00)  \n",
        "• Red versus Black  \n",
        "• Odd versus Even (Note that 0 and 00 do not pay out for even)  \n",
        "• 1 to 18 versus 19 to 36  \n",
        "\n",
        "\n",
        "Write a program that simulates a spin of a roulette wheel by using Python's random number generator. Display the number that was selected and all of the bets that must be payed.\n",
        "\n",
        "For example, if 13 is selected then your program should display:  \n",
        "The spin resulted in 13...  \n",
        "Pay 13  \n",
        "Pay Black   \n",
        "Pay Odd  \n",
        "Pay 1 to 18  \n",
        "If the simulation results in 0 or 00 then your program should display Pay 0 or Pay 00 without any further output.  \n",
        "\n",
        "\n",
        "The spin resulted in 24...  \n",
        "Pay 24  \n",
        "Pay Black  \n",
        "Pay Even  \n",
        "Pay 19 to 36  \n",
        "\n",
        "\n",
        "The spin resulted in 00...  \n",
        "Pay 00"
      ],
      "metadata": {
        "id": "X8W2HKknEJY8"
      }
    },
    {
      "cell_type": "code",
      "source": [
        "# 62\n",
        "from random import choice\n",
        "\n",
        "reds = [1, 3, 5, 7, 9, 12, 14, 16, 18, 19, 21, 23, 25, 27, 30, 32, 34, 36]\n",
        "\n",
        "options = list(range(37)) + [\"00\"] # concatenacion de listas\n",
        "result = choice(options)\n",
        "\n",
        "print(f\"The spin resulted in {result}...\")\n",
        "\n",
        "if result == 0 or result == '00':\n",
        "  print(f\"Pay {result}\")\n",
        "else:\n",
        "  print(f\"Pay {result}\")\n",
        "  is_red = result in reds\n",
        "  if is_red:\n",
        "    print(f\"Pay Red\")\n",
        "  else:\n",
        "    print(f\"Pay Black\")\n",
        "  is_even = (result % 2) == 0\n",
        "  if is_even:\n",
        "    print(\"Pay Even\")\n",
        "  else:\n",
        "    print(\"Pay Odd\")\n",
        "  is_1_18 = result <= 18\n",
        "  if is_1_18:\n",
        "    print(\"Pay 1 to 18\")\n",
        "  else:\n",
        "    print(\"Pay 19 to 36\")\n"
      ],
      "metadata": {
        "colab": {
          "base_uri": "https://localhost:8080/"
        },
        "id": "vzc0iMzUD7Li",
        "outputId": "6f5b599c-4d38-4375-ee2a-a7607ee3eedd"
      },
      "execution_count": 124,
      "outputs": [
        {
          "output_type": "stream",
          "name": "stdout",
          "text": [
            "The spin resulted in 19...\n",
            "Pay 19\n",
            "Pay Red\n",
            "Pay Odd\n",
            "Pay 19 to 36\n"
          ]
        }
      ]
    },
    {
      "cell_type": "code",
      "source": [
        "rango_36 = range(37)\n",
        "print(rango_36)\n",
        "print(type(rango_36))\n",
        "print(list(rango_36))"
      ],
      "metadata": {
        "colab": {
          "base_uri": "https://localhost:8080/"
        },
        "id": "S5wJ3orjGi67",
        "outputId": "abaab2a5-df26-4c04-e59e-94acb9352121"
      },
      "execution_count": 87,
      "outputs": [
        {
          "output_type": "stream",
          "name": "stdout",
          "text": [
            "range(0, 37)\n",
            "<class 'range'>\n",
            "[0, 1, 2, 3, 4, 5, 6, 7, 8, 9, 10, 11, 12, 13, 14, 15, 16, 17, 18, 19, 20, 21, 22, 23, 24, 25, 26, 27, 28, 29, 30, 31, 32, 33, 34, 35, 36]\n"
          ]
        }
      ]
    }
  ]
}